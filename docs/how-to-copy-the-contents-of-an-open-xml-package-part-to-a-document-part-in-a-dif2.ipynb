{
 "cells": [
  {
   "cell_type": "markdown",
   "metadata": {
    "dotnet_interactive": {
     "language": "csharp"
    },
    "polyglot_notebook": {
     "kernelName": "csharp"
    }
   },
   "source": []
  },
  {
   "cell_type": "markdown",
   "metadata": {
    "dotnet_interactive": {
     "language": "csharp"
    },
    "polyglot_notebook": {
     "kernelName": "csharp"
    }
   },
   "source": [
    "# Copy contents of an Open XML package part to a document part in a different package\n",
    "\n",
    "This topic shows how to use the classes in the Open XML SDK 2.5 for\n",
    "Office to copy the contents of an Open XML Wordprocessing document part\n",
    "to a document part in a different word-processing document\n",
    "programmatically.\n",
    "\n",
    "The following assembly directives are required to compile the code in\n",
    "this topic."
   ]
  },
  {
   "cell_type": "code",
   "execution_count": null,
   "metadata": {
    "dotnet_interactive": {
     "language": "csharp"
    },
    "polyglot_notebook": {
     "kernelName": "csharp"
    },
    "vscode": {
     "languageId": "polyglot-notebook"
    }
   },
   "outputs": [],
   "source": [
    "r '"
   ]
  },
  {
   "cell_type": "code",
   "execution_count": null,
   "metadata": {
    "dotnet_interactive": {
     "language": "csharp"
    },
    "polyglot_notebook": {
     "kernelName": "csharp"
    },
    "vscode": {
     "languageId": "polyglot-notebook"
    }
   },
   "outputs": [],
   "source": [
    "    using System.IO;\n",
    "    using DocumentFormat.OpenXml.Packaging;"
   ]
  },
  {
   "cell_type": "markdown",
   "metadata": {
    "dotnet_interactive": {
     "language": "csharp"
    },
    "polyglot_notebook": {
     "kernelName": "csharp"
    }
   },
   "source": []
  },
  {
   "cell_type": "markdown",
   "metadata": {
    "dotnet_interactive": {
     "language": "csharp"
    },
    "polyglot_notebook": {
     "kernelName": "csharp"
    }
   },
   "source": [
    "--------------------------------------------------------------------------------\n",
    "## Packages and Document Parts\n",
    "An Open XML document is stored as a package, whose format is defined by\n",
    "[ISO/IEC 29500-2](https://www.iso.org/standard/71691.html). The\n",
    "package can have multiple parts with relationships between them. The\n",
    "relationship between parts controls the category of the document. A\n",
    "document can be defined as a word-processing document if its\n",
    "package-relationship item contains a relationship to a main document\n",
    "part. If its package-relationship item contains a relationship to a\n",
    "presentation part it can be defined as a presentation document. If its\n",
    "package-relationship item contains a relationship to a workbook part, it\n",
    "is defined as a spreadsheet document. In this how-to topic, you will use\n",
    "a word-processing document package."
   ]
  },
  {
   "cell_type": "markdown",
   "metadata": {
    "dotnet_interactive": {
     "language": "csharp"
    },
    "polyglot_notebook": {
     "kernelName": "csharp"
    }
   },
   "source": [
    "--------------------------------------------------------------------------------\n",
    "## Getting a WordprocessingDocument Object\n",
    "To open an existing document, instantiate the [WordprocessingDocument](https://msdn.microsoft.com/library/office/documentformat.openxml.packaging.wordprocessingdocument.aspx) class as shown in\n",
    "the following two **using** statements. In the\n",
    "same statement, you open the word processing file with the specified\n",
    "file name by using the [Open](https://msdn.microsoft.com/library/office/documentformat.openxml.packaging.wordprocessingdocument.open.aspx) method, with the Boolean parameter.\n",
    "For the source file that set the parameter to **false** to open it for read-only access. For the\n",
    "target file, set the parameter to **true** in\n",
    "order to enable editing the document."
   ]
  },
  {
   "cell_type": "code",
   "execution_count": null,
   "metadata": {
    "dotnet_interactive": {
     "language": "csharp"
    },
    "polyglot_notebook": {
     "kernelName": "csharp"
    },
    "vscode": {
     "languageId": "polyglot-notebook"
    }
   },
   "outputs": [],
   "source": [
    "    using (WordprocessingDocument wordDoc1 = WordprocessingDocument.Open(fromDocument1, false))\n",
    "    using (WordprocessingDocument wordDoc2 = WordprocessingDocument.Open(toDocument2, true))\n",
    "    {\n",
    "        // Insert other code here.\n",
    "    }"
   ]
  },
  {
   "cell_type": "markdown",
   "metadata": {
    "dotnet_interactive": {
     "language": "csharp"
    },
    "polyglot_notebook": {
     "kernelName": "csharp"
    }
   },
   "source": []
  },
  {
   "cell_type": "markdown",
   "metadata": {
    "dotnet_interactive": {
     "language": "csharp"
    },
    "polyglot_notebook": {
     "kernelName": "csharp"
    }
   },
   "source": [
    "The **using** statement provides a recommended\n",
    "alternative to the typical .Create, .Save, .Close sequence. It ensures\n",
    "that the **Dispose** method (internal method\n",
    "used by the Open XML SDK to clean up resources) is automatically called\n",
    "when the closing brace is reached. The block that follows the using\n",
    "statement establishes a scope for the object that is created or named in\n",
    "the **using** statement. Because the **WordprocessingDocument** class in the Open XML SDK\n",
    "automatically saves and closes the object as part of its **System.IDisposable** implementation, and because\n",
    "**Dispose** is automatically called when you\n",
    "exit the block, you do not have to explicitly call **Save** and **Close**─as\n",
    "long as you use **using**."
   ]
  },
  {
   "cell_type": "markdown",
   "metadata": {
    "dotnet_interactive": {
     "language": "csharp"
    },
    "polyglot_notebook": {
     "kernelName": "csharp"
    }
   },
   "source": [
    "--------------------------------------------------------------------------------\n",
    "## Structure of a WordProcessingML Document\n",
    "The basic document structure of a **WordProcessingML** document consists of the **document** and **body**\n",
    "elements, followed by one or more block level elements such as **p**, which represents a paragraph. A paragraph\n",
    "contains one or more **r** elements. The **r** stands for run, which is a region of text with\n",
    "a common set of properties, such as formatting. A run contains one or\n",
    "more **t** elements. The **t** element contains a range of text. The following\n",
    "code example shows the **WordprocessingML**\n",
    "markup for a document that contains the text \"Example text.\"\n",
    "\n",
    "```xml\n",
    "    <w:document xmlns:w=\"https://schemas.openxmlformats.org/wordprocessingml/2006/main\">\n",
    "      <w:body>\n",
    "        <w:p>\n",
    "          <w:r>\n",
    "            <w:t>Example text.</w:t>\n",
    "          </w:r>\n",
    "        </w:p>\n",
    "      </w:body>\n",
    "    </w:document>\n",
    "```\n",
    "\n",
    "Using the Open XML SDK 2.5, you can create document structure and\n",
    "content using strongly-typed classes that correspond to **WordprocessingML** elements. You will find these\n",
    "classes in the [DocumentFormat.OpenXml.Wordprocessing](https://msdn.microsoft.com/library/office/documentformat.openxml.wordprocessing.aspx)\n",
    "namespace. The following table lists the class names of the classes that\n",
    "correspond to the **document**, **body**, **p**, **r**, and **t** elements.\n",
    "\n",
    "| WordprocessingML Element | Open XML SDK 2.5 Class | Description |\n",
    "|---|---|---|\n",
    "| document | [Document](https://msdn.microsoft.com/library/office/documentformat.openxml.wordprocessing.document.aspx) | The root element for the main document part. |\n",
    "| body | [Body](https://msdn.microsoft.com/library/office/documentformat.openxml.wordprocessing.body.aspx) | The container for the block level structures such as paragraphs, tables, annotations and others specified in the [ISO/IEC 29500](https://www.iso.org/standard/71691.html) specification. |\n",
    "| p | [Paragraph](https://msdn.microsoft.com/library/office/documentformat.openxml.wordprocessing.paragraph.aspx) | A paragraph. |\n",
    "| r | [Run](https://msdn.microsoft.com/library/office/documentformat.openxml.wordprocessing.run.aspx) | A run. |\n",
    "| t | [Text](https://msdn.microsoft.com/library/office/documentformat.openxml.wordprocessing.text.aspx) | A range of text. |\n",
    "\n",
    "--------------------------------------------------------------------------------\n",
    "## The Theme Part\n",
    "The theme part contains information about the color, font, and format of\n",
    "a document. It is defined in the [ISO/IEC 29500](https://www.iso.org/standard/71691.html) specification as\n",
    "follows.\n",
    "\n",
    "An instance of this part type contains information about a document's\n",
    "theme, which is a combination of color scheme, font scheme, and format\n",
    "scheme (the latter also being referred to as effects). For a\n",
    "WordprocessingML document, the choice of theme affects the color and\n",
    "style of headings, among other things. For a SpreadsheetML document, the\n",
    "choice of theme affects the color and style of cell contents and charts,\n",
    "among other things. For a PresentationML document, the choice of theme\n",
    "affects the formatting of slides, handouts, and notes via the associated\n",
    "master, among other things.\n",
    "\n",
    "A WordprocessingML or SpreadsheetML package shall contain zero or one\n",
    "Theme part, which shall be the target of an implicit relationship in a\n",
    "Main Document (§11.3.10) or Workbook (§12.3.23) part. A PresentationML\n",
    "package shall contain zero or one Theme part per Handout Master\n",
    "(§13.3.3), Notes Master (§13.3.4), Slide Master (§13.3.10) or\n",
    "Presentation (§13.3.6) part via an implicit relationship.\n",
    "\n",
    "*Example*: The following WordprocessingML Main Document\n",
    "part-relationship item contains a relationship to the Theme part, which\n",
    "is stored in the ZIP item theme/theme1.xml:\n",
    "\n",
    "```xml\n",
    "    <Relationships xmlns=\"…\">\n",
    "       <Relationship Id=\"rId4\"\n",
    "          Type=\"https://…/theme\" Target=\"theme/theme1.xml\"/>\n",
    "    </Relationships>\n",
    "```\n"
   ]
  },
  {
   "cell_type": "markdown",
   "metadata": {
    "dotnet_interactive": {
     "language": "csharp"
    },
    "polyglot_notebook": {
     "kernelName": "csharp"
    }
   },
   "source": [
    "--------------------------------------------------------------------------------\n",
    "## How the Sample Code Works\n",
    "To copy the contents of a document part in an Open XML package to a\n",
    "document part in a different package, the full path of the each word\n",
    "processing document is passed in as a parameter to the **CopyThemeContent** method. The code then opens both\n",
    "documents as **WordprocessingDocument**\n",
    "objects, and creates variables that reference the **ThemePart** parts in each of the packages."
   ]
  },
  {
   "cell_type": "code",
   "execution_count": null,
   "metadata": {
    "dotnet_interactive": {
     "language": "csharp"
    },
    "polyglot_notebook": {
     "kernelName": "csharp"
    },
    "vscode": {
     "languageId": "polyglot-notebook"
    }
   },
   "outputs": [],
   "source": [
    "    public static void CopyThemeContent(string fromDocument1, string toDocument2)\n",
    "    {\n",
    "       using (WordprocessingDocument wordDoc1 = WordprocessingDocument.Open(fromDocument1, false))\n",
    "       using (WordprocessingDocument wordDoc2 = WordprocessingDocument.Open(toDocument2, true))\n",
    "       {\n",
    "          ThemePart themePart1 = wordDoc1.MainDocumentPart.ThemePart;\n",
    "          ThemePart themePart2 = wordDoc2.MainDocumentPart.ThemePart;"
   ]
  },
  {
   "cell_type": "markdown",
   "metadata": {
    "dotnet_interactive": {
     "language": "csharp"
    },
    "polyglot_notebook": {
     "kernelName": "csharp"
    }
   },
   "source": []
  },
  {
   "cell_type": "markdown",
   "metadata": {
    "dotnet_interactive": {
     "language": "csharp"
    },
    "polyglot_notebook": {
     "kernelName": "csharp"
    }
   },
   "source": [
    "The code then reads the contents of the source **ThemePart** part by using a **StreamReader** object and writes to the target\n",
    "**ThemePart** part by using a **StreamWriter** object."
   ]
  },
  {
   "cell_type": "code",
   "execution_count": null,
   "metadata": {
    "dotnet_interactive": {
     "language": "csharp"
    },
    "polyglot_notebook": {
     "kernelName": "csharp"
    },
    "vscode": {
     "languageId": "polyglot-notebook"
    }
   },
   "outputs": [],
   "source": [
    "    using (StreamReader streamReader = new StreamReader(themePart1.GetStream()))\n",
    "    using (StreamWriter streamWriter = new StreamWriter(themePart2.GetStream(FileMode.Create))) \n",
    "    {\n",
    "        streamWriter.Write( streamReader.ReadToEnd());\n",
    "    }"
   ]
  },
  {
   "cell_type": "markdown",
   "metadata": {
    "dotnet_interactive": {
     "language": "csharp"
    },
    "polyglot_notebook": {
     "kernelName": "csharp"
    }
   },
   "source": []
  },
  {
   "cell_type": "markdown",
   "metadata": {
    "dotnet_interactive": {
     "language": "csharp"
    },
    "polyglot_notebook": {
     "kernelName": "csharp"
    }
   },
   "source": [
    "--------------------------------------------------------------------------------\n",
    "## Sample Code\n",
    "The following code copies the contents of one document part in an Open\n",
    "XML package to a document part in a different package. To call the **CopyThemeContent** method, you can use the\n",
    "following example, which copies the theme part from \"MyPkg4.docx\" to\n",
    "\"MyPkg3.docx.\""
   ]
  },
  {
   "cell_type": "code",
   "execution_count": null,
   "metadata": {
    "dotnet_interactive": {
     "language": "csharp"
    },
    "polyglot_notebook": {
     "kernelName": "csharp"
    },
    "vscode": {
     "languageId": "polyglot-notebook"
    }
   },
   "outputs": [],
   "source": [
    "    string fromDocument1 = @\"C:\\Users\\Public\\Documents\\MyPkg4.docx\";\n",
    "    string toDocument2 = @\"C:\\Users\\Public\\Documents\\MyPkg3.docx\";\n",
    "    CopyThemeContent(fromDocument1, toDocument2);"
   ]
  },
  {
   "cell_type": "markdown",
   "metadata": {
    "dotnet_interactive": {
     "language": "csharp"
    },
    "polyglot_notebook": {
     "kernelName": "csharp"
    }
   },
   "source": []
  },
  {
   "cell_type": "markdown",
   "metadata": {
    "dotnet_interactive": {
     "language": "csharp"
    },
    "polyglot_notebook": {
     "kernelName": "csharp"
    }
   },
   "source": [
    "> [!IMPORTANT]\n",
    "> Before you run the program, make sure that the source document (MyPkg4.docx) has the theme part set; otherwise, an exception would be thrown. To add a theme to a document, open it in Microsoft Word 2013, click the **Page Layout** tab, click **Themes**, and select one of the available themes.\n",
    "\n",
    "After running the program, you can inspect the file \"MyPkg3.docx\" to see\n",
    "the copied theme from the file \"MyPkg4.docx.\"\n",
    "\n",
    "Following is the complete sample code in both C\\# and Visual Basic."
   ]
  },
  {
   "cell_type": "code",
   "execution_count": null,
   "metadata": {
    "dotnet_interactive": {
     "language": "csharp"
    },
    "polyglot_notebook": {
     "kernelName": "csharp"
    },
    "vscode": {
     "languageId": "polyglot-notebook"
    }
   },
   "outputs": [],
   "source": [
    "    // To copy contents of one package part.\n",
    "    public static void CopyThemeContent(string fromDocument1, string toDocument2)\n",
    "    {\n",
    "       using (WordprocessingDocument wordDoc1 = WordprocessingDocument.Open(fromDocument1, false))\n",
    "       using (WordprocessingDocument wordDoc2 = WordprocessingDocument.Open(toDocument2, true))\n",
    "       {\n",
    "          ThemePart themePart1 = wordDoc1.MainDocumentPart.ThemePart;\n",
    "          ThemePart themePart2 = wordDoc2.MainDocumentPart.ThemePart;\n",
    "\n",
    "           using (StreamReader streamReader = new StreamReader(themePart1.GetStream()))\n",
    "           using (StreamWriter streamWriter = new StreamWriter(themePart2.GetStream(FileMode.Create))) \n",
    "          {\n",
    "             streamWriter.Write( streamReader.ReadToEnd() );\n",
    "          }\n",
    "       }\n",
    "    }"
   ]
  },
  {
   "cell_type": "markdown",
   "metadata": {
    "dotnet_interactive": {
     "language": "csharp"
    },
    "polyglot_notebook": {
     "kernelName": "csharp"
    }
   },
   "source": []
  },
  {
   "cell_type": "markdown",
   "metadata": {
    "dotnet_interactive": {
     "language": "csharp"
    },
    "polyglot_notebook": {
     "kernelName": "csharp"
    }
   },
   "source": [
    "--------------------------------------------------------------------------------\n",
    "## See also"
   ]
  },
  {
   "cell_type": "markdown",
   "metadata": {
    "dotnet_interactive": {
     "language": "csharp"
    },
    "polyglot_notebook": {
     "kernelName": "csharp"
    }
   },
   "source": [
    "- [Open XML SDK 2.5 class library reference](/office/open-xml/open-xml-sdk)\n",
    "\n",
    "\n",
    "\n"
   ]
  }
 ],
 "metadata": {
  "kernelspec": {
   "display_name": ".NET (C#)",
   "language": "C#",
   "name": ".net-csharp"
  },
  "polyglot_notebook": {
   "kernelInfo": {
    "defaultKernelName": "csharp",
    "items": [
     {
      "aliases": [
       "c#",
       "C#"
      ],
      "languageName": "C#",
      "name": "csharp"
     },
     {
      "aliases": [
       "frontend"
      ],
      "languageName": null,
      "name": "vscode"
     }
    ]
   }
  }
 },
 "nbformat": 4,
 "nbformat_minor": 2
}
