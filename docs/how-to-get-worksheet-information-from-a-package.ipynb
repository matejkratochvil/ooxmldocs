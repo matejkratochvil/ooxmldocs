{
 "cells": [
  {
   "cell_type": "markdown",
   "metadata": {
    "dotnet_interactive": {
     "language": "csharp"
    },
    "polyglot_notebook": {
     "kernelName": "csharp"
    }
   },
   "source": []
  },
  {
   "cell_type": "markdown",
   "metadata": {
    "dotnet_interactive": {
     "language": "csharp"
    },
    "polyglot_notebook": {
     "kernelName": "csharp"
    }
   },
   "source": [
    "# Get worksheet information from an Open XML package (Open XML SDK)\n",
    "\n",
    "This topic shows how to use the classes in the Open XML SDK 2.5 for Office to programmatically retrieve information from a worksheet in a Spreadsheet document.\n",
    "\n",
    "The following assembly directives are required to compile the code in this topic."
   ]
  },
  {
   "cell_type": "code",
   "execution_count": null,
   "metadata": {
    "dotnet_interactive": {
     "language": "csharp"
    },
    "polyglot_notebook": {
     "kernelName": "csharp"
    },
    "vscode": {
     "languageId": "polyglot-notebook"
    }
   },
   "outputs": [],
   "source": []
  },
  {
   "cell_type": "code",
   "execution_count": 1,
   "metadata": {
    "dotnet_interactive": {
     "language": "csharp"
    },
    "polyglot_notebook": {
     "kernelName": "csharp"
    },
    "vscode": {
     "languageId": "polyglot-notebook"
    }
   },
   "outputs": [
    {
     "ename": "Error",
     "evalue": "(5,15): error CS0246: The type or namespace name 'DocumentFormat' could not be found (are you missing a using directive or an assembly reference?)\n(3,15): error CS0246: The type or namespace name 'DocumentFormat' could not be found (are you missing a using directive or an assembly reference?)\n(4,15): error CS0246: The type or namespace name 'DocumentFormat' could not be found (are you missing a using directive or an assembly reference?)\n(2,11): error CS0246: The type or namespace name 'DocumentFormat' could not be found (are you missing a using directive or an assembly reference?)",
     "output_type": "error",
     "traceback": [
      "(5,15): error CS0246: The type or namespace name 'DocumentFormat' could not be found (are you missing a using directive or an assembly reference?)\n",
      "(3,15): error CS0246: The type or namespace name 'DocumentFormat' could not be found (are you missing a using directive or an assembly reference?)\n",
      "(4,15): error CS0246: The type or namespace name 'DocumentFormat' could not be found (are you missing a using directive or an assembly reference?)\n",
      "(2,11): error CS0246: The type or namespace name 'DocumentFormat' could not be found (are you missing a using directive or an assembly reference?)"
     ]
    }
   ],
   "source": [
    "    using System;\n",
    "    using DocumentFormat.OpenXml.Packaging;\n",
    "    using S = DocumentFormat.OpenXml.Spreadsheet.Sheets;\n",
    "    using E = DocumentFormat.OpenXml.OpenXmlElement;\n",
    "    using A = DocumentFormat.OpenXml.OpenXmlAttribute;"
   ]
  },
  {
   "cell_type": "markdown",
   "metadata": {
    "dotnet_interactive": {
     "language": "csharp"
    },
    "polyglot_notebook": {
     "kernelName": "csharp"
    }
   },
   "source": []
  },
  {
   "cell_type": "markdown",
   "metadata": {
    "dotnet_interactive": {
     "language": "csharp"
    },
    "polyglot_notebook": {
     "kernelName": "csharp"
    }
   },
   "source": [
    "## Create SpreadsheetDocument object\n",
    "\n",
    "In the Open XML SDK, the **[SpreadsheetDocument](/dotnet/api/documentformat.openxml.packaging.spreadsheetdocument?)** class represents an Excel document package. To create an Excel document, you create an instance of the **SpreadsheetDocument** class and populate it with parts. At a minimum, the document must have a workbook part that serves as a container for the document, and at least one worksheet part. The text is represented in the package as XML using **SpreadsheetML** markup.\n",
    "\n",
    "To create the class instance from the document you call one of the **[Open](/dotnet/api/documentformat.openxml.packaging.spreadsheetdocument.open.md)** methods. In this example, you must open the file for read access only. Therefore, you can use the **[Open(String, Boolean)](dotnet/api/documentformat.openxml.packaging.spreadsheetdocument.open?view=openxml-2.8.1&preserve-view=true #DocumentFormat_OpenXml_Packaging_SpreadsheetDocument_Open_System_String_System_Boolean_)** method, and set the Boolean parameter to **false**.\n",
    "\n",
    "The following code example calls the **Open** method to open the file specified by the **filepath** for read-only access."
   ]
  },
  {
   "cell_type": "code",
   "execution_count": null,
   "metadata": {
    "dotnet_interactive": {
     "language": "csharp"
    },
    "polyglot_notebook": {
     "kernelName": "csharp"
    },
    "vscode": {
     "languageId": "polyglot-notebook"
    }
   },
   "outputs": [],
   "source": [
    "    // Open file as read-only.\n",
    "    using (SpreadsheetDocument mySpreadsheet = SpreadsheetDocument.Open(fileName, false))"
   ]
  },
  {
   "cell_type": "markdown",
   "metadata": {
    "dotnet_interactive": {
     "language": "csharp"
    },
    "polyglot_notebook": {
     "kernelName": "csharp"
    }
   },
   "source": []
  },
  {
   "cell_type": "markdown",
   "metadata": {
    "dotnet_interactive": {
     "language": "csharp"
    },
    "polyglot_notebook": {
     "kernelName": "csharp"
    }
   },
   "source": [
    "The **using** statement provides a recommended alternative to the typical .Open, .Save, .Close sequence. It ensures that the **Dispose** method (internal method used by the Open XML SDK to clean up resources) is automatically called when the closing brace is reached. The block that follows the **using** statement establishes a scope for the object that is created or named in the **using** statement, in this case **mySpreadsheet**.\n",
    "\n",
    "## Basic structure of a SpreadsheetML\n",
    "\n",
    "The basic document structure of a **SpreadsheetML** document consists of the **[Sheets](/dotnet/api/documentformat.openxml.spreadsheet.sheets?view=openxml-2.8.1&preserve-view=true)** and **[Sheet](/dotnet/api/documentformat.openxml.spreadsheet.sheet?view=openxml-2.8.1&preserve-view=true)** elements, which reference the\n",
    "worksheets in the **[Workbook](/dotnet/api/documentformat.openxml.spreadsheet.workbook?view=openxml-2.8.1&preserve-view=true)**. A separate XML file is created\n",
    "for each **[Worksheet](/dotnet/api/documentformat.openxml.spreadsheet.worksheet?view=openxml-2.8.1&preserve-view=true)**. For example, the **SpreadsheetML** for a workbook that has two worksheets name MySheet1 and MySheet2 is located in the Workbook.xml file and is shown in the following code example.\n",
    "\n",
    "```xml\n",
    "    <?xml version=\"1.0\" encoding=\"UTF-8\" standalone=\"yes\" ?> \n",
    "    <workbook xmlns=https://schemas.openxmlformats.org/spreadsheetml/2006/main xmlns:r=\"https://schemas.openxmlformats.org/officeDocument/2006/relationships\">\n",
    "        <sheets>\n",
    "            <sheet name=\"MySheet1\" sheetId=\"1\" r:id=\"rId1\" /> \n",
    "            <sheet name=\"MySheet2\" sheetId=\"2\" r:id=\"rId2\" /> \n",
    "        </sheets>\n",
    "    </workbook>\n",
    "```\n",
    "\n",
    "The worksheet XML files contain one or more block level elements such as **SheetData**. **[SheetData](/dotnet/api/documentformat.openxml.spreadsheet.sheetdata?view=openxml-2.8.1&preserve-view=true)** represents the cell table and contains one or more **[Row](/dotnet/api/documentformat.openxml.spreadsheet.row?view=openxml-2.8.1&preserve-view=true )** elements. A **row** contains one or more **[Cell](/dotnet/api/documentformat.openxml.spreadsheet.cell?view=openxml-2.8.1&preserve-view=true)** elements. Each cell contains a **[CellValue](/dotnet/api/documentformat.openxml.spreadsheet.cellvalue?view=openxml-2.8.1&preserve-view=true)** element that represents the value of the cell. For example, the SpreadsheetML for the first worksheet in a workbook, that only has the value 100 in cell A1, is located in the Sheet1.xml file and is shown in the following code example.\n",
    "\n",
    "```xml\n",
    "    <?xml version=\"1.0\" encoding=\"UTF-8\" ?> \n",
    "    <worksheet xmlns=\"https://schemas.openxmlformats.org/spreadsheetml/2006/main\">\n",
    "        <sheetData>\n",
    "            <row r=\"1\">\n",
    "                <c r=\"A1\">\n",
    "                    <v>100</v> \n",
    "                </c>\n",
    "            </row>\n",
    "        </sheetData>\n",
    "    </worksheet>\n",
    "```\n",
    "\n",
    "Using the Open XML SDK 2.5, you can create document structure and content that uses strongly-typed classes that correspond to **SpreadsheetML** elements. You can find these\n",
    "classes in the **DocumentFormat.OpenXML.Spreadsheet** namespace. The following table lists the class names of the classes that correspond to the **workbook**, **sheets**, **sheet**, **worksheet**, and **sheetData** elements.\n",
    "\n",
    "| SpreadsheetML Element | Open XML SDK 2.5 Class | Description |\n",
    "|---|---|---|\n",
    "| workbook | DocumentFormat.OpenXml.Spreadsheet.Workbook | The root element for the main document part. |\n",
    "| sheets | DocumentFormat.OpenXml.Spreadsheet.Sheets | The container for the block level structures such as sheet, fileVersion, and others specified in the [ISO/IEC 29500](https://www.iso.org/standard/71691.html) specification. |\n",
    "| sheet | DocumentFormat.OpenXml.Spreadsheet.Sheet | A sheet that points to a sheet definition file. |\n",
    "| worksheet | DocumentFormat.OpenXml.Spreadsheet.Worksheet | A sheet definition file that contains the sheet data. |\n",
    "| sheetData | DocumentFormat.OpenXml.Spreadsheet.SheetData | The cell table, grouped together by rows. |\n",
    "| row | DocumentFormat.OpenXml.Spreadsheet.Row | A row in the cell table. |\n",
    "| c | DocumentFormat.OpenXml.Spreadsheet.Cell | A cell in a row. |\n",
    "| v | DocumentFormat.OpenXml.Spreadsheet.CellValue | The value of a cell. |\n",
    "\n",
    "## How the Sample Code Works\n",
    "\n",
    "After you have opened the file for read-only access, you instantiate the **Sheets** class."
   ]
  },
  {
   "cell_type": "code",
   "execution_count": null,
   "metadata": {
    "dotnet_interactive": {
     "language": "csharp"
    },
    "polyglot_notebook": {
     "kernelName": "csharp"
    },
    "vscode": {
     "languageId": "polyglot-notebook"
    }
   },
   "outputs": [],
   "source": [
    "    S sheets = mySpreadsheet.WorkbookPart.Workbook.Sheets;"
   ]
  },
  {
   "cell_type": "markdown",
   "metadata": {
    "dotnet_interactive": {
     "language": "csharp"
    },
    "polyglot_notebook": {
     "kernelName": "csharp"
    }
   },
   "source": []
  },
  {
   "cell_type": "markdown",
   "metadata": {
    "dotnet_interactive": {
     "language": "csharp"
    },
    "polyglot_notebook": {
     "kernelName": "csharp"
    }
   },
   "source": [
    "You then you iterate through the **Sheets** collection and display **[OpenXmlElement](/dotnet/api/documentformat.openxml.openxmlelement?view=openxml-2.8.1&preserve-view=true)** and the **[OpenXmlAttribute](/api/documentformat.openxml.openxmlattribute?view=openxml-2.8.1&preserve-view=true)** in each element."
   ]
  },
  {
   "cell_type": "code",
   "execution_count": null,
   "metadata": {
    "dotnet_interactive": {
     "language": "csharp"
    },
    "polyglot_notebook": {
     "kernelName": "csharp"
    },
    "vscode": {
     "languageId": "polyglot-notebook"
    }
   },
   "outputs": [],
   "source": [
    "    foreach (E sheet in sheets)\n",
    "    {\n",
    "        foreach (A attr in sheet.GetAttributes())\n",
    "        {\n",
    "            Console.WriteLine(\"{0}: {1}\", attr.LocalName, attr.Value);\n",
    "        }\n",
    "    }"
   ]
  },
  {
   "cell_type": "markdown",
   "metadata": {
    "dotnet_interactive": {
     "language": "csharp"
    },
    "polyglot_notebook": {
     "kernelName": "csharp"
    }
   },
   "source": []
  },
  {
   "cell_type": "markdown",
   "metadata": {
    "dotnet_interactive": {
     "language": "csharp"
    },
    "polyglot_notebook": {
     "kernelName": "csharp"
    }
   },
   "source": [
    "By displaying the attribute information you get the name and ID for each worksheet in the spreadsheet file.\n",
    "\n",
    "## Sample code\n",
    "\n",
    "In the following code example, you retrieve and display the attributes of the all sheets in the specified workbook contained in a **SpreadsheetDocument** document. The following code example shows how to call the **GetSheetInfo** method."
   ]
  },
  {
   "cell_type": "code",
   "execution_count": null,
   "metadata": {
    "dotnet_interactive": {
     "language": "csharp"
    },
    "polyglot_notebook": {
     "kernelName": "csharp"
    },
    "vscode": {
     "languageId": "polyglot-notebook"
    }
   },
   "outputs": [],
   "source": [
    "    GetSheetInfo(@\"C:\\Users\\Public\\Documents\\Sheet5.xlsx\");"
   ]
  },
  {
   "cell_type": "markdown",
   "metadata": {
    "dotnet_interactive": {
     "language": "csharp"
    },
    "polyglot_notebook": {
     "kernelName": "csharp"
    }
   },
   "source": []
  },
  {
   "cell_type": "markdown",
   "metadata": {
    "dotnet_interactive": {
     "language": "csharp"
    },
    "polyglot_notebook": {
     "kernelName": "csharp"
    }
   },
   "source": [
    "The following is the complete code sample in both C\\# and Visual Basic."
   ]
  },
  {
   "cell_type": "code",
   "execution_count": null,
   "metadata": {
    "dotnet_interactive": {
     "language": "csharp"
    },
    "polyglot_notebook": {
     "kernelName": "csharp"
    },
    "vscode": {
     "languageId": "polyglot-notebook"
    }
   },
   "outputs": [],
   "source": [
    "    public static void GetSheetInfo(string fileName)\n",
    "    {\n",
    "        // Open file as read-only.\n",
    "        using (SpreadsheetDocument mySpreadsheet = SpreadsheetDocument.Open(fileName, false))\n",
    "        {\n",
    "            S sheets = mySpreadsheet.WorkbookPart.Workbook.Sheets;\n",
    "\n",
    "            // For each sheet, display the sheet information.\n",
    "            foreach (E sheet in sheets)\n",
    "            {\n",
    "                foreach (A attr in sheet.GetAttributes())\n",
    "                {\n",
    "                    Console.WriteLine(\"{0}: {1}\", attr.LocalName, attr.Value);\n",
    "                }\n",
    "            }\n",
    "        }\n",
    "    }"
   ]
  },
  {
   "cell_type": "markdown",
   "metadata": {
    "dotnet_interactive": {
     "language": "csharp"
    },
    "polyglot_notebook": {
     "kernelName": "csharp"
    }
   },
   "source": []
  },
  {
   "cell_type": "markdown",
   "metadata": {
    "dotnet_interactive": {
     "language": "csharp"
    },
    "polyglot_notebook": {
     "kernelName": "csharp"
    }
   },
   "source": [
    "## See also\n",
    "\n",
    "[Open XML SDK 2.5 class library reference](/office/open-xml/open-xml-sdk)"
   ]
  }
 ],
 "metadata": {
  "kernelspec": {
   "display_name": ".NET (C#)",
   "language": "C#",
   "name": ".net-csharp"
  },
  "polyglot_notebook": {
   "kernelInfo": {
    "defaultKernelName": "csharp",
    "items": [
     {
      "aliases": [
       "c#",
       "C#"
      ],
      "languageName": "C#",
      "name": "csharp"
     },
     {
      "aliases": [
       "frontend"
      ],
      "languageName": null,
      "name": "vscode"
     },
     {
      "aliases": [],
      "languageName": null,
      "name": ".NET"
     },
     {
      "aliases": [
       "f#",
       "F#"
      ],
      "languageName": "F#",
      "name": "fsharp"
     },
     {
      "aliases": [],
      "languageName": "HTML",
      "name": "html"
     },
     {
      "aliases": [],
      "languageName": "KQL",
      "name": "kql"
     },
     {
      "aliases": [],
      "languageName": "Mermaid",
      "name": "mermaid"
     },
     {
      "aliases": [
       "powershell"
      ],
      "languageName": "PowerShell",
      "name": "pwsh"
     },
     {
      "aliases": [],
      "languageName": "SQL",
      "name": "sql"
     },
     {
      "aliases": [],
      "name": "value"
     },
     {
      "aliases": [
       "js"
      ],
      "languageName": "JavaScript",
      "name": "javascript"
     },
     {
      "aliases": [],
      "name": "webview"
     }
    ]
   }
  }
 },
 "nbformat": 4,
 "nbformat_minor": 2
}
