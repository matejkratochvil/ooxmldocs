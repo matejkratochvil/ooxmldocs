{
 "cells": [
  {
   "cell_type": "markdown",
   "metadata": {
    "dotnet_interactive": {
     "language": "csharp"
    },
    "polyglot_notebook": {
     "kernelName": "csharp"
    }
   },
   "source": []
  },
  {
   "cell_type": "markdown",
   "metadata": {
    "dotnet_interactive": {
     "language": "csharp"
    },
    "polyglot_notebook": {
     "kernelName": "csharp"
    }
   },
   "source": [
    "# Insert a chart into a spreadsheet document (Open XML SDK)\n",
    "\n",
    "This topic shows how to use the classes in the Open XML SDK 2.5 for Office to insert a chart into a spreadsheet document programmatically.\n",
    "\n",
    "The following assembly directives are required to compile the code in this topic."
   ]
  },
  {
   "cell_type": "code",
   "execution_count": null,
   "metadata": {
    "dotnet_interactive": {
     "language": "csharp"
    },
    "polyglot_notebook": {
     "kernelName": "csharp"
    },
    "vscode": {
     "languageId": "polyglot-notebook"
    }
   },
   "outputs": [],
   "source": [
    "r 'nuget: "
   ]
  },
  {
   "cell_type": "code",
   "execution_count": 1,
   "metadata": {
    "dotnet_interactive": {
     "language": "csharp"
    },
    "polyglot_notebook": {
     "kernelName": "csharp"
    },
    "vscode": {
     "languageId": "polyglot-notebook"
    }
   },
   "outputs": [
    {
     "ename": "Error",
     "evalue": "(3,11): error CS0246: The type or namespace name 'DocumentFormat' could not be found (are you missing a using directive or an assembly reference?)\n(4,11): error CS0246: The type or namespace name 'DocumentFormat' could not be found (are you missing a using directive or an assembly reference?)\n(5,11): error CS0246: The type or namespace name 'DocumentFormat' could not be found (are you missing a using directive or an assembly reference?)\n(6,11): error CS0246: The type or namespace name 'DocumentFormat' could not be found (are you missing a using directive or an assembly reference?)\n(7,11): error CS0246: The type or namespace name 'DocumentFormat' could not be found (are you missing a using directive or an assembly reference?)\n(8,11): error CS0246: The type or namespace name 'DocumentFormat' could not be found (are you missing a using directive or an assembly reference?)",
     "output_type": "error",
     "traceback": [
      "(3,11): error CS0246: The type or namespace name 'DocumentFormat' could not be found (are you missing a using directive or an assembly reference?)\n",
      "(4,11): error CS0246: The type or namespace name 'DocumentFormat' could not be found (are you missing a using directive or an assembly reference?)\n",
      "(5,11): error CS0246: The type or namespace name 'DocumentFormat' could not be found (are you missing a using directive or an assembly reference?)\n",
      "(6,11): error CS0246: The type or namespace name 'DocumentFormat' could not be found (are you missing a using directive or an assembly reference?)\n",
      "(7,11): error CS0246: The type or namespace name 'DocumentFormat' could not be found (are you missing a using directive or an assembly reference?)\n",
      "(8,11): error CS0246: The type or namespace name 'DocumentFormat' could not be found (are you missing a using directive or an assembly reference?)"
     ]
    }
   ],
   "source": [
    "    using System.Collections.Generic;\n",
    "    using System.Linq;\n",
    "    using DocumentFormat.OpenXml;\n",
    "    using DocumentFormat.OpenXml.Packaging;\n",
    "    using DocumentFormat.OpenXml.Spreadsheet;\n",
    "    using DocumentFormat.OpenXml.Drawing;\n",
    "    using DocumentFormat.OpenXml.Drawing.Charts;\n",
    "    using DocumentFormat.OpenXml.Drawing.Spreadsheet;"
   ]
  },
  {
   "cell_type": "markdown",
   "metadata": {
    "dotnet_interactive": {
     "language": "csharp"
    },
    "polyglot_notebook": {
     "kernelName": "csharp"
    }
   },
   "source": []
  },
  {
   "cell_type": "markdown",
   "metadata": {
    "dotnet_interactive": {
     "language": "csharp"
    },
    "polyglot_notebook": {
     "kernelName": "csharp"
    }
   },
   "source": [
    "## Get a SpreadsheetDocument object\n",
    "\n",
    "In the Open XML SDK, the [SpreadsheetDocument](https://msdn.microsoft.com/library/office/documentformat.openxml.packaging.spreadsheetdocument.aspx) class represents an\n",
    "Excel document package. To open and work with an Excel document, you\n",
    "create an instance of the **SpreadsheetDocument** class from the document.\n",
    "After you create the instance from the document, you can then obtain\n",
    "access to the main workbook part that contains the worksheets. The\n",
    "content in the document is represented in the package as XML using **SpreadsheetML** markup.\n",
    "\n",
    "To create the class instance from the document, you call one of the\n",
    "[Open()](https://msdn.microsoft.com/library/office/documentformat.openxml.packaging.spreadsheetdocument.open.aspx) methods. Several are provided, each\n",
    "with a different signature. The sample code in this topic uses the [Open(String, Boolean)](https://msdn.microsoft.com/library/office/cc562356.aspx) method with a\n",
    "signature that requires two parameters. The first parameter takes a full\n",
    "path string that represents the document that you want to open. The\n",
    "second parameter is either **true** or **false** and represents whether you want the file to\n",
    "be opened for editing. Any changes to the document will not be saved if\n",
    "this parameter is **false**.\n",
    "\n",
    "The code that calls the **Open** method is shown in the following **using** statement."
   ]
  },
  {
   "cell_type": "code",
   "execution_count": null,
   "metadata": {
    "dotnet_interactive": {
     "language": "csharp"
    },
    "polyglot_notebook": {
     "kernelName": "csharp"
    },
    "vscode": {
     "languageId": "polyglot-notebook"
    }
   },
   "outputs": [],
   "source": [
    "    // Open the document for editing.\n",
    "    using (SpreadsheetDocument document = SpreadsheetDocument.Open(docName, true)) \n",
    "    {\n",
    "        // Insert other code here.\n",
    "    }"
   ]
  },
  {
   "cell_type": "markdown",
   "metadata": {
    "dotnet_interactive": {
     "language": "csharp"
    },
    "polyglot_notebook": {
     "kernelName": "csharp"
    }
   },
   "source": []
  },
  {
   "cell_type": "markdown",
   "metadata": {
    "dotnet_interactive": {
     "language": "csharp"
    },
    "polyglot_notebook": {
     "kernelName": "csharp"
    }
   },
   "source": [
    "The **using** statement provides a recommended alternative to the typical .Open, .Save, .Close sequence. It ensures that the **Dispose** method (internal method used by the Open XML SDK to clean up resources) is automatically called when the closing brace is reached. The block that follows the **using** statement establishes a scope for the object that is created or named in the **using** statement, in this case *document*.\n",
    "\n",
    "## Basic structure of a SpreadsheetML document\n",
    "\n",
    "The basic document structure of a **SpreadsheetML** document consists of the \\<**sheets**\\> and \\<**sheet**\\> elements, which reference the worksheets\n",
    "in the [Workbook](https://msdn.microsoft.com/library/office/documentformat.openxml.spreadsheet.workbook.aspx). A separate XML file is created\n",
    "for each [Worksheet](https://msdn.microsoft.com/library/office/documentformat.openxml.spreadsheet.worksheet.aspx). For example, the **SpreadsheetML** for a workbook that has three\n",
    "worksheets named MySheet1, MySheet2, and Chart1 is located in the\n",
    "Workbook.xml file and is shown in the following code example.\n",
    "\n",
    "```xml\n",
    "    <x:workbook xmlns:r=\"https://schemas.openxmlformats.org/officeDocument/2006/relationships\" xmlns:x=\"https://schemas.openxmlformats.org/spreadsheetml/2006/main\">\n",
    "      <x:fileVersion appName=\"xl\" lastEdited=\"5\" lowestEdited=\"4\" rupBuild=\"9302\" />\n",
    "      <x:workbookPr filterPrivacy=\"1\" defaultThemeVersion=\"124226\" />\n",
    "      <x:bookViews>\n",
    "        <x:workbookView xWindow=\"240\" yWindow=\"108\" windowWidth=\"14808\" windowHeight=\"8016\" activeTab=\"1\" />\n",
    "      </x:bookViews>\n",
    "      <x:sheets>\n",
    "        <x:sheet name=\"MySheet1\" sheetId=\"1\" r:id=\"rId1\" />\n",
    "        <x:sheet name=\"MySheet2\" sheetId=\"2\" r:id=\"rId2\" />\n",
    "        <x:sheet name=\"Chart1\" sheetId=\"3\" type=\"chartsheet\" r:id=\"rId3\"/>\n",
    "      </x:sheets>\n",
    "      <x:calcPr calcId=\"122211\" />\n",
    "    </x:workbook>\n",
    "```\n",
    "\n",
    "The worksheet XML files contain one or more block level elements such as\n",
    "\\<**sheetData**\\>, which represents the cell\n",
    "table and contains one or more row (\\<**row**\\>) elements. A row element contains one or\n",
    "more cell elements (\\<**c**\\>). Each cell\n",
    "element contains a cell value element (\\<**v**\\>) that represents the value of the cell. For\n",
    "example, the **SpreadsheetML** for the first\n",
    "worksheet in a workbook, that only has the value 100 in cell A1, is\n",
    "located in the Sheet1.xml file and is shown in the following code\n",
    "example.\n",
    "\n",
    "```xml\n",
    "    <?xml version=\"1.0\" encoding=\"UTF-8\" ?> \n",
    "    <worksheet xmlns=\"https://schemas.openxmlformats.org/spreadsheetml/2006/main\">\n",
    "        <sheetData>\n",
    "            <row r=\"1\">\n",
    "                <c r=\"A1\">\n",
    "                    <v>100</v> \n",
    "                </c>\n",
    "            </row>\n",
    "        </sheetData>\n",
    "    </worksheet>\n",
    "```\n",
    "\n",
    "Using the Open XML SDK 2.5, you can create document structure and\n",
    "content that uses strongly-typed classes that correspond to **SpreadsheetML** elements. You can find these\n",
    "classes in the **DocumentFormat.OpenXml.Spreadsheet** namespace. The\n",
    "following table lists the class names of the classes that correspond to\n",
    "the **workbook**, [Sheets](https://msdn.microsoft.com/library/office/documentformat.openxml.spreadsheet.sheets.aspx), [Sheet](https://msdn.microsoft.com/library/office/documentformat.openxml.spreadsheet.sheet.aspx), **worksheet**, and [SheetData<](https://msdn.microsoft.com/library/office/documentformat.openxml.spreadsheet.sheetdata.aspx) elements.\n",
    "\n",
    "| **SpreadsheetML Element** | **Open XML SDK 2.5 Class** | **Description** |\n",
    "|:---|:---|:---|\n",
    "| workbook | DocumentFormat.OpenXml.Spreadsheet.Workbook | The root element for the main document part. |\n",
    "| sheets | DocumentFormat.OpenXml.Spreadsheet.Sheets | The container for the block level structures such as sheet, fileVersion, and others specified in the [ISO/IEC 29500](https://www.iso.org/standard/71691.html) specification. |\n",
    "| sheet | DocumentFormat.OpenXml.Spreadsheet.Sheet | A sheet that points to a sheet definition file. |\n",
    "| worksheet | DocumentFormat.OpenXml.Spreadsheet.Worksheet | A sheet definition file that contains the sheet data. |\n",
    "| sheetData | DocumentFormat.OpenXml.Spreadsheet.SheetData | The cell table, grouped together by rows. |\n",
    "| row | [Row](https://msdn.microsoft.com/library/office/documentformat.openxml.spreadsheet.row.aspx) | A row in the cell table. |\n",
    "| c | [Cell](https://msdn.microsoft.com/library/office/documentformat.openxml.spreadsheet.cell.aspx) | A cell in a row. |\n",
    "| v | [CellValue](https://msdn.microsoft.com/library/office/documentformat.openxml.spreadsheet.cellvalue.aspx) | The value of a cell. |\n",
    "\n",
    "## Row element\n",
    "\n",
    "In this how-to, you are going to deal with the row, cell, and cell value\n",
    "elements. Therefore it is useful to familiarize yourself with these\n",
    "elements. The following text from the [ISO/IEC 29500](https://www.iso.org/standard/71691.html) specification\n",
    "introduces row (\\<**row**\\>) element.\n",
    "\n",
    "> The row element expresses information about an entire row of a\n",
    "> worksheet, and contains all cell definitions for a particular row in\n",
    "> the worksheet.\n",
    ">\n",
    "> This row expresses information about row 2 in the worksheet, and\n",
    "> contains 3 cell definitions.\n",
    "\n",
    "```xml\n",
    "    <row r=\"2\" spans=\"2:12\">\n",
    "      <c r=\"C2\" s=\"1\">\n",
    "        <f>PMT(B3/12,B4,-B5)</f>\n",
    "        <v>672.68336574300008</v>\n",
    "      </c>\n",
    "      <c r=\"D2\">\n",
    "        <v>180</v>\n",
    "      </c>\n",
    "      <c r=\"E2\">\n",
    "        <v>360</v>\n",
    "      </c>\n",
    "    </row>\n",
    "```\n",
    "\n",
    "> The following XML Schema code example defines the contents of the row\n",
    "element.\n",
    "\n",
    "```xml\n",
    "    <complexType name=\"CT_Row\">\n",
    "       <sequence>\n",
    "           <element name=\"c\" type=\"CT_Cell\" minOccurs=\"0\" maxOccurs=\"unbounded\"/>\n",
    "           <element name=\"extLst\" minOccurs=\"0\" type=\"CT_ExtensionList\"/>\n",
    "       </sequence>\n",
    "       <attribute name=\"r\" type=\"xsd:unsignedInt\" use=\"optional\"/>\n",
    "       <attribute name=\"spans\" type=\"ST_CellSpans\" use=\"optional\"/>\n",
    "       <attribute name=\"s\" type=\"xsd:unsignedInt\" use=\"optional\" default=\"0\"/>\n",
    "       <attribute name=\"customFormat\" type=\"xsd:boolean\" use=\"optional\" default=\"false\"/>\n",
    "       <attribute name=\"ht\" type=\"xsd:double\" use=\"optional\"/>\n",
    "       <attribute name=\"hidden\" type=\"xsd:boolean\" use=\"optional\" default=\"false\"/>\n",
    "       <attribute name=\"customHeight\" type=\"xsd:boolean\" use=\"optional\" default=\"false\"/>\n",
    "       <attribute name=\"outlineLevel\" type=\"xsd:unsignedByte\" use=\"optional\" default=\"0\"/>\n",
    "       <attribute name=\"collapsed\" type=\"xsd:boolean\" use=\"optional\" default=\"false\"/>\n",
    "       <attribute name=\"thickTop\" type=\"xsd:boolean\" use=\"optional\" default=\"false\"/>\n",
    "       <attribute name=\"thickBot\" type=\"xsd:boolean\" use=\"optional\" default=\"false\"/>\n",
    "       <attribute name=\"ph\" type=\"xsd:boolean\" use=\"optional\" default=\"false\"/>\n",
    "    </complexType>\n",
    "```\n",
    "\n",
    "## Cell element\n",
    "\n",
    "The following text from the [ISO/IEC 29500](https://www.iso.org/standard/71691.html) specification\n",
    "introduces cell (\\<**c**\\>) element.\n",
    "\n",
    "> This collection represents a cell in the worksheet. Information about\n",
    "> the cell's location (reference), value, data type, formatting, and\n",
    "> formula is expressed here.\n",
    ">\n",
    "> This example shows the information stored for a cell whose address in\n",
    "> the grid is C6, whose style index is 6, and whose value metadata index\n",
    "> is 15. The cell contains a formula as well as a calculated result of\n",
    "> that formula.\n",
    "\n",
    "```xml\n",
    "    <c r=\"C6\" s=\"1\" vm=\"15\">\n",
    "      <f>CUBEVALUE(\"xlextdat9 Adventure Works\",C$5,$A6)</f>\n",
    "      <v>2838512.355</v>\n",
    "    </c>\n",
    "```\n",
    "\n",
    "> The following XML Schema code example defines the contents of this\n",
    "element.\n",
    "\n",
    "```xml\n",
    "    <complexType name=\"CT_Cell\">\n",
    "       <sequence>\n",
    "           <element name=\"f\" type=\"CT_CellFormula\" minOccurs=\"0\" maxOccurs=\"1\"/>\n",
    "           <element name=\"v\" type=\"ST_Xstring\" minOccurs=\"0\" maxOccurs=\"1\"/>\n",
    "           <element name=\"is\" type=\"CT_Rst\" minOccurs=\"0\" maxOccurs=\"1\"/>\n",
    "           <element name=\"extLst\" minOccurs=\"0\" type=\"CT_ExtensionList\"/>\n",
    "       </sequence>\n",
    "       <attribute name=\"r\" type=\"ST_CellRef\" use=\"optional\"/>\n",
    "       <attribute name=\"s\" type=\"xsd:unsignedInt\" use=\"optional\" default=\"0\"/>\n",
    "       <attribute name=\"t\" type=\"ST_CellType\" use=\"optional\" default=\"n\"/>\n",
    "       <attribute name=\"cm\" type=\"xsd:unsignedInt\" use=\"optional\" default=\"0\"/>\n",
    "       <attribute name=\"vm\" type=\"xsd:unsignedInt\" use=\"optional\" default=\"0\"/>\n",
    "       <attribute name=\"ph\" type=\"xsd:boolean\" use=\"optional\" default=\"false\"/>\n",
    "    </complexType>\n",
    "```\n",
    "\n",
    "## Cell value element\n",
    "\n",
    "The following text from the [ISO/IEC 29500](https://www.iso.org/standard/71691.html) specification\n",
    "introduces Cell Value (\\<**c**\\>) element.\n",
    "\n",
    "> This element expresses the value contained in a cell. If the cell\n",
    "> contains a string, then this value is an index into the shared string\n",
    "> table, pointing to the actual string value. Otherwise, the value of\n",
    "> the cell is expressed directly in this element. Cells containing\n",
    "> formulas express the last calculated result of the formula in this\n",
    "> element.\n",
    ">\n",
    "> For applications not wanting to implement the shared string table, an\n",
    "> \"inline string\" may be expressed in an \\<**is**\\> element under \\<**c**\\> (instead of a \\<**v**\\> element under \\<**c**\\>), in the same way a string would be\n",
    "> expressed in the shared string table.\n",
    ">\n",
    "> In the following example cell B4 contains the number 360.\n",
    "\n",
    "```xml\n",
    "    <c r=\"B4\">\n",
    "      <v>360</v>\n",
    "    </c>\n",
    "```\n",
    "\n",
    "## How the sample code works\n",
    "\n",
    "After opening the spreadsheet file for read/write access, the code verifies if the specified worksheet exists. It then adds a new [DrawingsPart](https://msdn.microsoft.com/library/office/documentformat.openxml.packaging.drawingspart.aspx) object using the [AddNewPart](https://msdn.microsoft.com/library/office/documentformat.openxml.packaging.openxmlpartcontainer.addnewpart.aspx) method, appends it to the worksheet, and saves the worksheet part. The code then adds a new [ChartPart](https://msdn.microsoft.com/library/office/documentformat.openxml.packaging.chartpart.aspx) object, appends a new [ChartSpace](https://msdn.microsoft.com/library/office/documentformat.openxml.packaging.chartpart.chartspace.aspx) object to the **ChartPart** object, and then appends a new [EditingLanguage](https://msdn.microsoft.com/library/office/documentformat.openxml.drawing.charts.chartspace.editinglanguage.aspx) object to the **ChartSpace*** object that specifies the language for the chart is English-US."
   ]
  },
  {
   "cell_type": "code",
   "execution_count": null,
   "metadata": {
    "dotnet_interactive": {
     "language": "csharp"
    },
    "polyglot_notebook": {
     "kernelName": "csharp"
    },
    "vscode": {
     "languageId": "polyglot-notebook"
    }
   },
   "outputs": [],
   "source": [
    "    IEnumerable<Sheet> sheets = document.WorkbookPart.Workbook.Descendants<Sheet>().Where\n",
    "        (s => s.Name == worksheetName);\n",
    "    if (sheets.Count() == 0)\n",
    "    {\n",
    "        // The specified worksheet does not exist.\n",
    "        return;\n",
    "    }\n",
    "    WorksheetPart worksheetPart = (WorksheetPart)document.WorkbookPart.GetPartById(sheets.First().Id);\n",
    "\n",
    "    // Add a new drawing to the worksheet.\n",
    "    DrawingsPart drawingsPart = worksheetPart.AddNewPart<DrawingsPart>();\n",
    "    worksheetPart.Worksheet.Append(new DocumentFormat.OpenXml.Spreadsheet.Drawing() \n",
    "        { Id = worksheetPart.GetIdOfPart(drawingsPart) });\n",
    "    worksheetPart.Worksheet.Save();\n",
    "\n",
    "    // Add a new chart and set the chart language to English-US.\n",
    "    ChartPart chartPart = drawingsPart.AddNewPart<ChartPart>();\n",
    "    chartPart.ChartSpace = new ChartSpace();\n",
    "    chartPart.ChartSpace.Append(new EditingLanguage() { Val = new StringValue(\"en-US\") });\n",
    "    DocumentFormat.OpenXml.Drawing.Charts.Chart chart = chartPart.ChartSpace.AppendChild \n",
    "        <DocumentFormat.OpenXml.Drawing.Charts.Chart>\n",
    "        (new DocumentFormat.OpenXml.Drawing.Charts.Chart());"
   ]
  },
  {
   "cell_type": "markdown",
   "metadata": {
    "dotnet_interactive": {
     "language": "csharp"
    },
    "polyglot_notebook": {
     "kernelName": "csharp"
    }
   },
   "source": []
  },
  {
   "cell_type": "markdown",
   "metadata": {
    "dotnet_interactive": {
     "language": "csharp"
    },
    "polyglot_notebook": {
     "kernelName": "csharp"
    }
   },
   "source": [
    "The code creates a new clustered column chart by creating a new [BarChart](https://msdn.microsoft.com/library/office/documentformat.openxml.drawing.charts.barchart.aspx) object with [BarDirectionValues](https://msdn.microsoft.com/library/office/documentformat.openxml.drawing.charts.bardirectionvalues.aspx) object set to **Column** and [BarGroupingValues](https://msdn.microsoft.com/library/office/documentformat.openxml.drawing.charts.bargroupingvalues.aspx) object set to **Clustered**.\n",
    "\n",
    "The code then iterates through each key in the **Dictionary** class. For each key, it appends a\n",
    "[BarChartSeries](https://msdn.microsoft.com/library/office/documentformat.openxml.drawing.charts.barchartseries.aspx) object to the **BarChart** object and sets the [SeriesText](https://msdn.microsoft.com/library/office/documentformat.openxml.drawing.charts.seriestext.aspx) object of the **BarChartSeries** object to equal the key. For each key, it appends a [NumberLiteral](https://msdn.microsoft.com/library/office/documentformat.openxml.drawing.charts.numberliteral.aspx) object to the **Values** collection of the **BarChartSeries** object and sets the **NumberLiteral** object to equal the **Dictionary** class value corresponding to the key."
   ]
  },
  {
   "cell_type": "code",
   "execution_count": null,
   "metadata": {
    "dotnet_interactive": {
     "language": "csharp"
    },
    "polyglot_notebook": {
     "kernelName": "csharp"
    },
    "vscode": {
     "languageId": "polyglot-notebook"
    }
   },
   "outputs": [],
   "source": [
    "    // Create a new clustered column chart.\n",
    "    PlotArea plotArea = chart.AppendChild<PlotArea>(new PlotArea());\n",
    "    Layout layout = plotArea.AppendChild<Layout>(new Layout());\n",
    "    BarChart barChart = plotArea.AppendChild<BarChart>(new BarChart(new BarDirection() \n",
    "        { Val = new EnumValue<BarDirectionValues>(BarDirectionValues.Column) },\n",
    "        new BarGrouping() { Val = new EnumValue<BarGroupingValues> BarGroupingValues.Clustered) }));\n",
    "\n",
    "    uint i = 0;\n",
    "\n",
    "    // Iterate through each key in the Dictionary collection and add the key to the chart Series\n",
    "    // and add the corresponding value to the chart Values.\n",
    "    foreach (string key in data.Keys)\n",
    "    {\n",
    "        BarChartSeries barChartSeries = barChart.AppendChild<BarChartSeries>\n",
    "            (new BarChartSeries(new Index() { Val = new UInt32Value(i) },\n",
    "            new Order() { Val = new UInt32Value(i) },\n",
    "            new SeriesText(new NumericValue() { Text = key })));\n",
    "\n",
    "        StringLiteral strLit = barChartSeries.AppendChild<CategoryAxisData>\n",
    "        (new CategoryAxisData()).AppendChild<StringLiteral>(new StringLiteral());\n",
    "        strLit.Append(new PointCount() { Val = new UInt32Value(1U) });\n",
    "        strLit.AppendChild<StringPoint>(new StringPoint() { Index = new UInt32Value(0U) })\n",
    "    .Append(new NumericValue(title));\n",
    "\n",
    "        NumberLiteral numLit = barChartSeries.AppendChild<DocumentFormat.\n",
    "    OpenXml.Drawing.Charts.Values>(new DocumentFormat.OpenXml.Drawing.Charts.Values()).AppendChild<NumberLiteral>\n",
    "        (new NumberLiteral());\n",
    "        numLit.Append(new FormatCode(\"General\"));\n",
    "        numLit.Append(new PointCount() { Val = new UInt32Value(1U) });\n",
    "        numLit.AppendChild<NumericPoint>(new NumericPoint() { Index = new UInt32Value(0u)})\n",
    "        .Append(new NumericValue(data[key].ToString()));\n",
    "\n",
    "        i++;\n",
    "    }"
   ]
  },
  {
   "cell_type": "markdown",
   "metadata": {
    "dotnet_interactive": {
     "language": "csharp"
    },
    "polyglot_notebook": {
     "kernelName": "csharp"
    }
   },
   "source": []
  },
  {
   "cell_type": "markdown",
   "metadata": {
    "dotnet_interactive": {
     "language": "csharp"
    },
    "polyglot_notebook": {
     "kernelName": "csharp"
    }
   },
   "source": [
    "The code adds the [CategoryAxis](https://msdn.microsoft.com/library/office/documentformat.openxml.drawing.charts.categoryaxis.aspx) object and [ValueAxis](https://msdn.microsoft.com/library/office/documentformat.openxml.drawing.charts.valueaxis.aspx) object to the chart and sets the value of the following properties: [Scaling](https://msdn.microsoft.com/library/office/documentformat.openxml.drawing.charts.scaling.aspx), [AxisPosition](https://msdn.microsoft.com/library/office/documentformat.openxml.drawing.charts.axisposition.aspx), [TickLabelPosition](https://msdn.microsoft.com/library/office/documentformat.openxml.drawing.charts.ticklabelposition.aspx), [CrossingAxis](https://msdn.microsoft.com/library/office/documentformat.openxml.drawing.charts.crossingaxis.aspx), [Crosses](https://msdn.microsoft.com/library/office/documentformat.openxml.drawing.charts.crosses.aspx), [AutoLabeled](https://msdn.microsoft.com/library/office/documentformat.openxml.drawing.charts.autolabeled.aspx), [LabelAlignment](https://msdn.microsoft.com/library/office/documentformat.openxml.drawing.charts.labelalignment.aspx), and [LabelOffset](https://msdn.microsoft.com/library/office/documentformat.openxml.drawing.charts.labeloffset.aspx). It also adds the [Legend](https://msdn.microsoft.com/library/office/documentformat.openxml.drawing.charts.chart.legend.aspx) object to the chart and saves the chart part."
   ]
  },
  {
   "cell_type": "code",
   "execution_count": null,
   "metadata": {
    "dotnet_interactive": {
     "language": "csharp"
    },
    "polyglot_notebook": {
     "kernelName": "csharp"
    },
    "vscode": {
     "languageId": "polyglot-notebook"
    }
   },
   "outputs": [],
   "source": [
    "    barChart.Append(new AxisId() { Val = new UInt32Value(48650112u) });\n",
    "    barChart.Append(new AxisId() { Val = new UInt32Value(48672768u) });\n",
    "\n",
    "    // Add the Category Axis.\n",
    "    CategoryAxis catAx = plotArea.AppendChild<CategoryAxis>(new CategoryAxis(new AxisId() \n",
    "        { Val = new UInt32Value(48650112u) }, new Scaling(new Orientation()\n",
    "        {\n",
    "            Val = new EnumValue<DocumentFormat.OpenXml.Drawing.Charts.OrientationValues>(\n",
    "                DocumentFormat.OpenXml.Drawing.Charts.OrientationValues.MinMax)\n",
    "        }),\n",
    "        new AxisPosition() { Val = new EnumValue<AxisPositionValues>(AxisPositionValues.Bottom) },\n",
    "        new TickLabelPosition() { Val = new EnumValue<TickLabelPositionValues>(TickLabelPositionValues.NextTo) },\n",
    "        new CrossingAxis() { Val = new UInt32Value(48672768U) },\n",
    "        new Crosses() { Val = new EnumValue<CrossesValues>(CrossesValues.AutoZero) },\n",
    "        new AutoLabeled() { Val = new BooleanValue(true) },\n",
    "        new LabelAlignment() { Val = new EnumValue<LabelAlignmentValues>(LabelAlignmentValues.Center) },\n",
    "        new LabelOffset() { Val = new UInt16Value((ushort)100) }));\n",
    "\n",
    "    // Add the Value Axis.\n",
    "    ValueAxis valAx = plotArea.AppendChild<ValueAxis>(new ValueAxis(new AxisId() { Val = new UInt32Value(48672768u) },\n",
    "        new Scaling(new Orientation()\n",
    "        {\n",
    "            Val = new EnumValue<DocumentFormat.OpenXml.Drawing.Charts.OrientationValues>(\n",
    "                DocumentFormat.OpenXml.Drawing.Charts.OrientationValues.MinMax)\n",
    "        }),\n",
    "        new AxisPosition() { Val = new EnumValue<AxisPositionValues>(AxisPositionValues.Left) },\n",
    "        new MajorGridlines(),\n",
    "        new DocumentFormat.OpenXml.Drawing.Charts.NumberingFormat() { FormatCode = new StringValue(\"General\"), \n",
    "        SourceLinked = new BooleanValue(true) }, new TickLabelPosition() { Val = \n",
    "        new EnumValue<TickLabelPositionValues>(TickLabelPositionValues.NextTo) },\n",
    "        new CrossingAxis() { Val = new UInt32Value(48650112U) }, new Crosses() {\n",
    "        Val = new EnumValue<CrossesValues>(CrossesValues.AutoZero) }, new CrossBetween()\n",
    "    { Val = new EnumValue<CrossBetweenValues>(CrossBetweenValues.Between) }));\n",
    "    // Add the chart Legend.\n",
    "    Legend legend = chart.AppendChild<Legend>(new Legend(new LegendPosition() \n",
    "      { Val = new EnumValue<LegendPositionValues>(LegendPositionValues.Right) },\n",
    "        new Layout()));\n",
    "\n",
    "    chart.Append(new PlotVisibleOnly() { Val = new BooleanValue(true) });\n",
    "\n",
    "    // Save the chart part.\n",
    "    chartPart.ChartSpace.Save();"
   ]
  },
  {
   "cell_type": "markdown",
   "metadata": {
    "dotnet_interactive": {
     "language": "csharp"
    },
    "polyglot_notebook": {
     "kernelName": "csharp"
    }
   },
   "source": []
  },
  {
   "cell_type": "markdown",
   "metadata": {
    "dotnet_interactive": {
     "language": "csharp"
    },
    "polyglot_notebook": {
     "kernelName": "csharp"
    }
   },
   "source": [
    "The code positions the chart on the worksheet by creating a [WorksheetDrawing](https://msdn.microsoft.com/library/office/documentformat.openxml.packaging.drawingspart.worksheetdrawing.aspx) object and appending a **TwoCellAnchor** object. The **TwoCellAnchor** object specifies how to move or resize the chart if you move the rows and columns between the [FromMarker](https://msdn.microsoft.com/library/office/documentformat.openxml.drawing.spreadsheet.frommarker.aspx) and [ToMarker](https://msdn.microsoft.com/library/office/documentformat.openxml.drawing.spreadsheet.tomarker.aspx) anchors. The code then creates a [GraphicFrame](https://msdn.microsoft.com/library/office/documentformat.openxml.drawing.spreadsheet.graphicframe.aspx) object to contain the chart and names the chart \"Chart 1,\" and saves the worksheet drawing."
   ]
  },
  {
   "cell_type": "code",
   "execution_count": null,
   "metadata": {
    "dotnet_interactive": {
     "language": "csharp"
    },
    "polyglot_notebook": {
     "kernelName": "csharp"
    },
    "vscode": {
     "languageId": "polyglot-notebook"
    }
   },
   "outputs": [],
   "source": [
    "    // Position the chart on the worksheet using a TwoCellAnchor object.\n",
    "    drawingsPart.WorksheetDrawing = new WorksheetDrawing();\n",
    "    TwoCellAnchor twoCellAnchor = drawingsPart.WorksheetDrawing.AppendChild<TwoCellAnchor>(new TwoCellAnchor());\n",
    "    twoCellAnchor.Append(new DocumentFormat.OpenXml.Drawing.Spreadsheet.FromMarker(new ColumnId(\"9\"),\n",
    "        new ColumnOffset(\"581025\"),\n",
    "        new RowId(\"17\"),\n",
    "        new RowOffset(\"114300\")));\n",
    "    twoCellAnchor.Append(new DocumentFormat.OpenXml.Drawing.Spreadsheet.ToMarker(new ColumnId(\"17\"),\n",
    "        new ColumnOffset(\"276225\"),\n",
    "        new RowId(\"32\"),\n",
    "        new RowOffset(\"0\")));\n",
    "\n",
    "    // Append a GraphicFrame to the TwoCellAnchor object.\n",
    "    DocumentFormat.OpenXml.Drawing.Spreadsheet.GraphicFrame graphicFrame = \n",
    "        twoCellAnchor.AppendChild<DocumentFormat.OpenXml.Drawing.Spreadsheet.GraphicFrame>(\n",
    "        new DocumentFormat.OpenXml.Drawing.Spreadsheet.GraphicFrame());\n",
    "    graphicFrame.Macro = \"\";\n",
    "\n",
    "    graphicFrame.Append(new DocumentFormat.OpenXml.Drawing.Spreadsheet.NonVisualGraphicFrameProperties(\n",
    "        new DocumentFormat.OpenXml.Drawing.Spreadsheet.NonVisualDrawingProperties() { Id = new UInt32Value(2u), \n",
    "    Name = \"Chart 1\" }, new DocumentFormat.OpenXml.Drawing.Spreadsheet.NonVisualGraphicFrameDrawingProperties()));\n",
    "\n",
    "    graphicFrame.Append(new Transform(new Offset() { X = 0L, Y = 0L },\n",
    "                        new Extents() { Cx = 0L, Cy = 0L }));\n",
    "\n",
    "    graphicFrame.Append(new Graphic(new GraphicData(new ChartReference() { Id = drawingsPart.GetIdOfPart(chartPart)})\n",
    "    { Uri = \"https://schemas.openxmlformats.org/drawingml/2006/chart\" }));\n",
    "\n",
    "    twoCellAnchor.Append(new ClientData());\n",
    "\n",
    "    // Save the WorksheetDrawing object.\n",
    "    drawingsPart.WorksheetDrawing.Save();"
   ]
  },
  {
   "cell_type": "markdown",
   "metadata": {
    "dotnet_interactive": {
     "language": "csharp"
    },
    "polyglot_notebook": {
     "kernelName": "csharp"
    }
   },
   "source": []
  },
  {
   "cell_type": "markdown",
   "metadata": {
    "dotnet_interactive": {
     "language": "csharp"
    },
    "polyglot_notebook": {
     "kernelName": "csharp"
    }
   },
   "source": [
    "## Sample Code\n",
    "\n",
    "In the following code, you add a clustered column chart to a [SpreadsheetDocument](https://msdn.microsoft.com/library/office/documentformat.openxml.packaging.spreadsheetdocument.aspx) document package using\n",
    "the data from a [Dictionary\\<TKey, TValue\\>](https://msdn2.microsoft.com/library/xfhwa508)\n",
    "class. For instance, you can call the method **InsertChartInSpreadsheet** by using this code segment."
   ]
  },
  {
   "cell_type": "code",
   "execution_count": null,
   "metadata": {
    "dotnet_interactive": {
     "language": "csharp"
    },
    "polyglot_notebook": {
     "kernelName": "csharp"
    },
    "vscode": {
     "languageId": "polyglot-notebook"
    }
   },
   "outputs": [],
   "source": [
    "    string docName = @\"C:\\Users\\Public\\Documents\\Sheet6.xlsx\";\n",
    "    string worksheetName = \"Joe\";\n",
    "    string title = \"New Chart\";\n",
    "    Dictionary<string,int> data = new Dictionary<string,int>();\n",
    "    data.Add(\"abc\", 1);\n",
    "    InsertChartInSpreadsheet(docName, worksheetName, title, data);"
   ]
  },
  {
   "cell_type": "markdown",
   "metadata": {
    "dotnet_interactive": {
     "language": "csharp"
    },
    "polyglot_notebook": {
     "kernelName": "csharp"
    }
   },
   "source": []
  },
  {
   "cell_type": "markdown",
   "metadata": {
    "dotnet_interactive": {
     "language": "csharp"
    },
    "polyglot_notebook": {
     "kernelName": "csharp"
    }
   },
   "source": [
    "After you have run the program, take a look the file named \"Sheet6.xlsx\" to see the inserted chart.\n",
    "\n",
    "> [!NOTE]\n",
    "> This code can be run only once. You cannot create more than one instance of the chart.\n",
    "\n",
    "The following is the complete sample code in both C\\# and Visual Basic."
   ]
  },
  {
   "cell_type": "code",
   "execution_count": null,
   "metadata": {
    "dotnet_interactive": {
     "language": "csharp"
    },
    "polyglot_notebook": {
     "kernelName": "csharp"
    },
    "vscode": {
     "languageId": "polyglot-notebook"
    }
   },
   "outputs": [],
   "source": [
    "    // Given a document name, a worksheet name, a chart title, and a Dictionary collection of text keys\n",
    "    // and corresponding integer data, creates a column chart with the text as the series and the integers as the values.\n",
    "    private static void InsertChartInSpreadsheet(string docName, string worksheetName, string title, \n",
    "    Dictionary<string, int> data)\n",
    "    {\n",
    "        // Open the document for editing.\n",
    "        using (SpreadsheetDocument document = SpreadsheetDocument.Open(docName, true))\n",
    "        {\n",
    "            IEnumerable<Sheet> sheets = document.WorkbookPart.Workbook.Descendants<Sheet>().\n",
    "    Where(s => s.Name == worksheetName);\n",
    "            if (sheets.Count() == 0)\n",
    "            {\n",
    "                // The specified worksheet does not exist.\n",
    "                return;\n",
    "            }\n",
    "            WorksheetPart worksheetPart = (WorksheetPart)document.WorkbookPart.GetPartById(sheets.First().Id);\n",
    "\n",
    "            // Add a new drawing to the worksheet.\n",
    "            DrawingsPart drawingsPart = worksheetPart.AddNewPart<DrawingsPart>();\n",
    "            worksheetPart.Worksheet.Append(new DocumentFormat.OpenXml.Spreadsheet.Drawing()\n",
    "        { Id = worksheetPart.GetIdOfPart(drawingsPart) });\n",
    "            worksheetPart.Worksheet.Save();\n",
    "\n",
    "            // Add a new chart and set the chart language to English-US.\n",
    "            ChartPart chartPart = drawingsPart.AddNewPart<ChartPart>(); \n",
    "            chartPart.ChartSpace = new ChartSpace();\n",
    "            chartPart.ChartSpace.Append(new EditingLanguage() { Val = new StringValue(\"en-US\") });\n",
    "            DocumentFormat.OpenXml.Drawing.Charts.Chart chart = chartPart.ChartSpace.AppendChild<DocumentFormat.OpenXml.Drawing.Charts.Chart>(\n",
    "                new DocumentFormat.OpenXml.Drawing.Charts.Chart());\n",
    "\n",
    "            // Create a new clustered column chart.\n",
    "            PlotArea plotArea = chart.AppendChild<PlotArea>(new PlotArea());\n",
    "            Layout layout = plotArea.AppendChild<Layout>(new Layout());\n",
    "            BarChart barChart = plotArea.AppendChild<BarChart>(new BarChart(new BarDirection() \n",
    "                { Val = new EnumValue<BarDirectionValues>(BarDirectionValues.Column) },\n",
    "                new BarGrouping() { Val = new EnumValue<BarGroupingValues>(BarGroupingValues.Clustered) }));\n",
    "\n",
    "            uint i = 0;\n",
    "            \n",
    "            // Iterate through each key in the Dictionary collection and add the key to the chart Series\n",
    "            // and add the corresponding value to the chart Values.\n",
    "            foreach (string key in data.Keys)\n",
    "            {\n",
    "                BarChartSeries barChartSeries = barChart.AppendChild<BarChartSeries>(new BarChartSeries(new Index() { Val =\n",
    "     new UInt32Value(i) },\n",
    "                    new Order() { Val = new UInt32Value(i) },\n",
    "                    new SeriesText(new NumericValue() { Text = key })));\n",
    "\n",
    "                StringLiteral strLit = barChartSeries.AppendChild<CategoryAxisData>(new CategoryAxisData()).AppendChild<StringLiteral>(new StringLiteral());\n",
    "                strLit.Append(new PointCount() { Val = new UInt32Value(1U) });\n",
    "                strLit.AppendChild<StringPoint>(new StringPoint() { Index = new UInt32Value(0U) }).Append(new NumericValue(title));\n",
    "\n",
    "                NumberLiteral numLit = barChartSeries.AppendChild<DocumentFormat.OpenXml.Drawing.Charts.Values>(\n",
    "                    new DocumentFormat.OpenXml.Drawing.Charts.Values()).AppendChild<NumberLiteral>(new NumberLiteral());\n",
    "                numLit.Append(new FormatCode(\"General\"));\n",
    "                numLit.Append(new PointCount() { Val = new UInt32Value(1U) });\n",
    "                numLit.AppendChild<NumericPoint>(new NumericPoint() { Index = new UInt32Value(0u) }).Append\n",
    "    (new NumericValue(data[key].ToString()));\n",
    "\n",
    "                i++;\n",
    "            }\n",
    "\n",
    "            barChart.Append(new AxisId() { Val = new UInt32Value(48650112u) });\n",
    "            barChart.Append(new AxisId() { Val = new UInt32Value(48672768u) });\n",
    "\n",
    "            // Add the Category Axis.\n",
    "            CategoryAxis catAx = plotArea.AppendChild<CategoryAxis>(new CategoryAxis(new AxisId() \n",
    "    { Val = new UInt32Value(48650112u) }, new Scaling(new Orientation() { Val = new EnumValue<DocumentFormat.\n",
    "    OpenXml.Drawing.Charts.OrientationValues>(                DocumentFormat.OpenXml.Drawing.Charts.OrientationValues.MinMax) }),\n",
    "                new AxisPosition() { Val = new EnumValue<AxisPositionValues>(AxisPositionValues.Bottom) },\n",
    "                new TickLabelPosition() { Val = new EnumValue<TickLabelPositionValues>(TickLabelPositionValues.NextTo) },\n",
    "                new CrossingAxis() { Val = new UInt32Value(48672768U) },\n",
    "                new Crosses() { Val = new EnumValue<CrossesValues>(CrossesValues.AutoZero) },\n",
    "                new AutoLabeled() { Val = new BooleanValue(true) },\n",
    "                new LabelAlignment() { Val = new EnumValue<LabelAlignmentValues>(LabelAlignmentValues.Center) },\n",
    "                new LabelOffset() { Val = new UInt16Value((ushort)100) }));\n",
    "\n",
    "            // Add the Value Axis.\n",
    "            ValueAxis valAx = plotArea.AppendChild<ValueAxis>(new ValueAxis(new AxisId() { Val = new UInt32Value(48672768u) },\n",
    "                new Scaling(new Orientation() { Val = new EnumValue<DocumentFormat.OpenXml.Drawing.Charts.OrientationValues>(\n",
    "                    DocumentFormat.OpenXml.Drawing.Charts.OrientationValues.MinMax) }),\n",
    "                new AxisPosition() { Val = new EnumValue<AxisPositionValues>(AxisPositionValues.Left) },\n",
    "                new MajorGridlines(),\n",
    "                new DocumentFormat.OpenXml.Drawing.Charts.NumberingFormat() { FormatCode = new StringValue(\"General\"), \n",
    "    SourceLinked = new BooleanValue(true) }, new TickLabelPosition() { Val = new EnumValue<TickLabelPositionValues>\n",
    "    (TickLabelPositionValues.NextTo) }, new CrossingAxis() { Val = new UInt32Value(48650112U) },\n",
    "                new Crosses() { Val = new EnumValue<CrossesValues>(CrossesValues.AutoZero) },\n",
    "                new CrossBetween() { Val = new EnumValue<CrossBetweenValues>(CrossBetweenValues.Between) }));\n",
    "\n",
    "            // Add the chart Legend.\n",
    "            Legend legend = chart.AppendChild<Legend>(new Legend(new LegendPosition() { Val = new EnumValue<LegendPositionValues>(LegendPositionValues.Right) },\n",
    "                new Layout()));\n",
    "\n",
    "            chart.Append(new PlotVisibleOnly() { Val = new BooleanValue(true) });\n",
    "\n",
    "            // Save the chart part.\n",
    "            chartPart.ChartSpace.Save();\n",
    "\n",
    "            // Position the chart on the worksheet using a TwoCellAnchor object.\n",
    "            drawingsPart.WorksheetDrawing = new WorksheetDrawing();\n",
    "            TwoCellAnchor twoCellAnchor = drawingsPart.WorksheetDrawing.AppendChild<TwoCellAnchor>(new TwoCellAnchor());\n",
    "            twoCellAnchor.Append(new DocumentFormat.OpenXml.Drawing.Spreadsheet.FromMarker(new ColumnId(\"9\"),\n",
    "                new ColumnOffset(\"581025\"),\n",
    "                new RowId(\"17\"),\n",
    "                new RowOffset(\"114300\")));\n",
    "            twoCellAnchor.Append(new DocumentFormat.OpenXml.Drawing.Spreadsheet.ToMarker(new ColumnId(\"17\"),\n",
    "                new ColumnOffset(\"276225\"),\n",
    "                new RowId(\"32\"),\n",
    "                new RowOffset(\"0\")));\n",
    "\n",
    "            // Append a GraphicFrame to the TwoCellAnchor object.\n",
    "            DocumentFormat.OpenXml.Drawing.Spreadsheet.GraphicFrame graphicFrame = \n",
    "                twoCellAnchor.AppendChild<DocumentFormat.OpenXml.\n",
    "    Drawing.Spreadsheet.GraphicFrame>(new DocumentFormat.OpenXml.Drawing.\n",
    "    Spreadsheet.GraphicFrame());\n",
    "            graphicFrame.Macro = \"\";\n",
    "\n",
    "            graphicFrame.Append(new DocumentFormat.OpenXml.Drawing.Spreadsheet.NonVisualGraphicFrameProperties(\n",
    "                new DocumentFormat.OpenXml.Drawing.Spreadsheet.NonVisualDrawingProperties() { Id = new UInt32Value(2u), Name = \"Chart 1\" },\n",
    "                new DocumentFormat.OpenXml.Drawing.Spreadsheet.NonVisualGraphicFrameDrawingProperties()));\n",
    "\n",
    "            graphicFrame.Append(new Transform(new Offset() { X = 0L, Y = 0L },\n",
    "                                                                    new Extents() { Cx = 0L, Cy = 0L }));\n",
    "\n",
    "            graphicFrame.Append(new Graphic(new GraphicData(new ChartReference()            { Id = drawingsPart.GetIdOfPart(chartPart) }) \n",
    "    { Uri = \"https://schemas.openxmlformats.org/drawingml/2006/chart\" }));\n",
    "\n",
    "            twoCellAnchor.Append(new ClientData());\n",
    "\n",
    "            // Save the WorksheetDrawing object.\n",
    "            drawingsPart.WorksheetDrawing.Save();\n",
    "        }\n",
    "\n",
    "    }"
   ]
  },
  {
   "cell_type": "markdown",
   "metadata": {
    "dotnet_interactive": {
     "language": "csharp"
    },
    "polyglot_notebook": {
     "kernelName": "csharp"
    }
   },
   "source": []
  },
  {
   "cell_type": "markdown",
   "metadata": {
    "dotnet_interactive": {
     "language": "csharp"
    },
    "polyglot_notebook": {
     "kernelName": "csharp"
    }
   },
   "source": [
    "## See also\n",
    "\n",
    "- [Open XML SDK 2.5 class library reference](/office/open-xml/open-xml-sdk)\n",
    "[Language-Integrated Query (LINQ)](https://msdn.microsoft.com/library/bb397926.aspx)\n",
    "[Lambda Expressions](https://msdn.microsoft.com/library/bb531253.aspx)\n",
    "[Lambda Expressions (C\\# Programming Guide)](https://msdn.microsoft.com/library/bb397687.aspx)"
   ]
  }
 ],
 "metadata": {
  "kernelspec": {
   "display_name": ".NET (C#)",
   "language": "C#",
   "name": ".net-csharp"
  },
  "polyglot_notebook": {
   "kernelInfo": {
    "defaultKernelName": "csharp",
    "items": [
     {
      "aliases": [
       "c#",
       "C#"
      ],
      "languageName": "C#",
      "name": "csharp"
     },
     {
      "aliases": [
       "frontend"
      ],
      "languageName": null,
      "name": "vscode"
     }
    ]
   }
  }
 },
 "nbformat": 4,
 "nbformat_minor": 2
}
