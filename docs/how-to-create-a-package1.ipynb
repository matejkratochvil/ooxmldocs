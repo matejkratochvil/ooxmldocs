{
 "cells": [
  {
   "cell_type": "markdown",
   "metadata": {
    "dotnet_interactive": {
     "language": "csharp"
    },
    "polyglot_notebook": {
     "kernelName": "csharp"
    }
   },
   "source": []
  },
  {
   "cell_type": "markdown",
   "metadata": {
    "dotnet_interactive": {
     "language": "csharp"
    },
    "polyglot_notebook": {
     "kernelName": "csharp"
    }
   },
   "source": [
    "# Create a package (Open XML SDK)\n",
    "\n",
    "This topic shows how to use the classes in the Open XML SDK 2.5 for\n",
    "Office to programmatically create a word processing document package\n",
    "from content in the form of **WordprocessingML** XML markup.\n",
    "\n",
    "The following assembly directives are required to compile the code in\n",
    "this topic."
   ]
  },
  {
   "cell_type": "code",
   "execution_count": 4,
   "metadata": {
    "dotnet_interactive": {
     "language": "csharp"
    },
    "polyglot_notebook": {
     "kernelName": "csharp"
    },
    "vscode": {
     "languageId": "polyglot-notebook"
    }
   },
   "outputs": [
    {
     "data": {
      "text/html": [
       "<div><div></div><div></div><div><strong>Installed Packages</strong><ul><li><span>Codeuctivity.OpenXmlPowerTools, 5.1.137-prerelease</span></li><li><span>DocumentFormat.OpenXml, 2.19.0</span></li></ul></div></div>"
      ]
     },
     "metadata": {},
     "output_type": "display_data"
    }
   ],
   "source": [
    "#r \"nuget: DocumentFormat.OpenXml, 2.81.0\"\n",
    "#r \"nuget: Codeuctivity.OpenXmlPowerTools, 5.1.137-Prerelease\""
   ]
  },
  {
   "cell_type": "code",
   "execution_count": 1,
   "metadata": {
    "dotnet_interactive": {
     "language": "csharp"
    },
    "polyglot_notebook": {
     "kernelName": "csharp"
    },
    "vscode": {
     "languageId": "polyglot-notebook"
    }
   },
   "outputs": [
    {
     "ename": "Error",
     "evalue": "(3,11): error CS0246: The type or namespace name 'DocumentFormat' could not be found (are you missing a using directive or an assembly reference?)\n(4,11): error CS0246: The type or namespace name 'DocumentFormat' could not be found (are you missing a using directive or an assembly reference?)",
     "output_type": "error",
     "traceback": [
      "(3,11): error CS0246: The type or namespace name 'DocumentFormat' could not be found (are you missing a using directive or an assembly reference?)\n",
      "(4,11): error CS0246: The type or namespace name 'DocumentFormat' could not be found (are you missing a using directive or an assembly reference?)"
     ]
    }
   ],
   "source": [
    "    using System.Text;\n",
    "    using System.IO;\n",
    "    using DocumentFormat.OpenXml;\n",
    "    using DocumentFormat.OpenXml.Packaging;"
   ]
  },
  {
   "cell_type": "markdown",
   "metadata": {
    "dotnet_interactive": {
     "language": "csharp"
    },
    "polyglot_notebook": {
     "kernelName": "csharp"
    }
   },
   "source": []
  },
  {
   "cell_type": "markdown",
   "metadata": {
    "dotnet_interactive": {
     "language": "csharp"
    },
    "polyglot_notebook": {
     "kernelName": "csharp"
    }
   },
   "source": [
    "## Packages and Document Parts\n",
    "\n",
    "An Open XML document is stored as a package, whose format is defined by\n",
    "[ISO/IEC 29500-2](https://www.iso.org/standard/71691.html). The\n",
    "package can have multiple parts with relationships between them. The\n",
    "relationship between parts controls the category of the document. A\n",
    "document can be defined as a word-processing document if its\n",
    "package-relationship item contains a relationship to a main document\n",
    "part. If its package-relationship item contains a relationship to a\n",
    "presentation part it can be defined as a presentation document. If its\n",
    "package-relationship item contains a relationship to a workbook part, it\n",
    "is defined as a spreadsheet document. In this how-to topic, you will use\n",
    "a word-processing document package."
   ]
  },
  {
   "cell_type": "markdown",
   "metadata": {
    "dotnet_interactive": {
     "language": "csharp"
    },
    "polyglot_notebook": {
     "kernelName": "csharp"
    }
   },
   "source": [
    "## Getting a WordprocessingDocument Object\n",
    "\n",
    "In the Open XML SDK, the [WordprocessingDocument](https://msdn.microsoft.com/library/office/documentformat.openxml.packaging.wordprocessingdocument.aspx) class represents a Word document package. To create a Word document, you create an instance\n",
    "of the **WordprocessingDocument** class and\n",
    "populate it with parts. At a minimum, the document must have a main\n",
    "document part that serves as a container for the main text of the\n",
    "document. The text is represented in the package as XML using **WordprocessingML** markup.\n",
    "\n",
    "To create the class instance you call the [Create(String, WordprocessingDocumentType)](https://msdn.microsoft.com/library/office/cc535610.aspx)\n",
    "method. Several **Create** methods are\n",
    "provided, each with a different signature. The sample code in this topic\n",
    "uses the **Create** method with a signature\n",
    "that requires two parameters. The first parameter takes a full path\n",
    "string that represents the document that you want to create. The second\n",
    "parameter is a member of the [WordprocessingDocumentType](https://msdn.microsoft.com/library/office/documentformat.openxml.wordprocessingdocumenttype.aspx) enumeration.\n",
    "This parameter represents the type of document. For example, there is a\n",
    "different member of the [WordProcessingDocumentType](https://msdn.microsoft.com/library/office/documentformat.openxml.wordprocessingdocumenttype.aspx) enumeration for each\n",
    "of document, template, and the macro enabled variety of document and\n",
    "template.\n",
    "\n",
    "> [!NOTE]\n",
    "> Carefully select the appropriate **WordProcessingDocumentType** and verify that the persisted file has the correct, matching file extension. If the **WordProcessingDocumentType** does not match the file extension, an error occurs when you open the file in Microsoft Word. The code that calls the **Create** method is part of a **using** statement followed by a bracketed block, as shown in the following code example."
   ]
  },
  {
   "cell_type": "code",
   "execution_count": null,
   "metadata": {
    "dotnet_interactive": {
     "language": "csharp"
    },
    "polyglot_notebook": {
     "kernelName": "csharp"
    },
    "vscode": {
     "languageId": "polyglot-notebook"
    }
   },
   "outputs": [],
   "source": [
    "    using (WordprocessingDocument wordDoc = WordprocessingDocument.Create(document, WordprocessingDocumentType.Document))\n",
    "    {\n",
    "       // Insert other code here. \n",
    "    }"
   ]
  },
  {
   "cell_type": "markdown",
   "metadata": {
    "dotnet_interactive": {
     "language": "csharp"
    },
    "polyglot_notebook": {
     "kernelName": "csharp"
    }
   },
   "source": []
  },
  {
   "cell_type": "markdown",
   "metadata": {
    "dotnet_interactive": {
     "language": "csharp"
    },
    "polyglot_notebook": {
     "kernelName": "csharp"
    }
   },
   "source": [
    "The **using** statement provides a recommended\n",
    "alternative to the typical .Create, .Save, .Close sequence. It ensures\n",
    "that the **Dispose** () method (internal method\n",
    "used by the Open XML SDK to clean up resources) is automatically called\n",
    "when the closing bracket is reached. The block that follows the **using** statement establishes a scope for the\n",
    "object that is created or named in the **using** statement, in this case **wordDoc**. Because the **WordprocessingDocument** class in the Open XML SDK\n",
    "automatically saves and closes the object as part of its **System.IDisposable** implementation, and because\n",
    "**Dispose** is automatically called when you exit the bracketed block, you do not have to explicitly call **Save** and **Close**─as\n",
    "long as you use **using**.\n",
    "\n",
    "Once you have created the Word document package, you can add parts to\n",
    "it. To add the main document part you call the [AddMainDocumentPart()](https://msdn.microsoft.com/library/office/documentformat.openxml.packaging.wordprocessingdocument.addmaindocumentpart.aspx) method of the **WordprocessingDocument** class. Having done that,\n",
    "you can set about adding the document structure and text."
   ]
  },
  {
   "cell_type": "markdown",
   "metadata": {
    "dotnet_interactive": {
     "language": "csharp"
    },
    "polyglot_notebook": {
     "kernelName": "csharp"
    }
   },
   "source": [
    "## Structure of a WordprocessingML Document\n",
    "\n",
    "The basic document structure of a **WordProcessingML** document consists of the **document** and **body**\n",
    "elements, followed by one or more block level elements such as **p**, which represents a paragraph. A paragraph\n",
    "contains one or more **r** elements. The **r** stands for run, which is a region of text with\n",
    "a common set of properties, such as formatting. A run contains one or\n",
    "more **t** elements. The **t** element contains a range of text. The **WordprocessingML** markup for the document that the\n",
    "sample code creates is shown in the following code example.\n",
    "\n",
    "```xml\n",
    "    <w:document xmlns:w=\"https://schemas.openxmlformats.org/wordprocessingml/2006/main\">\n",
    "      <w:body>\n",
    "        <w:p>\n",
    "          <w:r>\n",
    "            <w:t>Create text in body - CreateWordprocessingDocument</w:t>\n",
    "          </w:r>\n",
    "        </w:p>\n",
    "      </w:body>\n",
    "    </w:document>\n",
    "```\n",
    "\n",
    "Using the Open XML SDK 2.5, you can create document structure and\n",
    "content using strongly-typed classes that correspond to WordprocessingML\n",
    "elements. You can find these classes in the [DocumentFormat.OpenXml.Wordprocessing](https://msdn.microsoft.com/library/office/documentformat.openxml.wordprocessing.aspx)\n",
    "namespace. The following table lists the class names of the classes that\n",
    "correspond to the **document**, **body**, **p**, **r**, and **t** elements:\n",
    "\n",
    "| WordprocessingML Element | Open XML SDK 2.5 Class | Description |\n",
    "|---|---|---|\n",
    "| document | [Document](https://msdn.microsoft.com/library/office/documentformat.openxml.wordprocessing.document.aspx) | The root element for the main document part. |\n",
    "| body | [Body](https://msdn.microsoft.com/library/office/documentformat.openxml.wordprocessing.body.aspx) | The container for the block level structures such as paragraphs, tables, annotations, and others specified in the [ISO/IEC 29500](https://www.iso.org/standard/71691.html) specification. |\n",
    "| p | [Paragraph](https://msdn.microsoft.com/library/office/documentformat.openxml.wordprocessing.paragraph.aspx) | A paragraph. |\n",
    "| r | [Run](https://msdn.microsoft.com/library/office/documentformat.openxml.wordprocessing.run.aspx) | A run. |\n",
    "| t | [Text](https://msdn.microsoft.com/library/office/documentformat.openxml.wordprocessing.text.aspx) | A range of text. |\n",
    "\n",
    "## How the Sample Code Works \n",
    "\n",
    "First, the code creates a **WordprocessingDocument** object that represents the\n",
    "package based on the name of the input document. The code then calls the\n",
    "**AddMainDocumentPart** method to create a main\n",
    "document part as **/word/document.xml** in the\n",
    "new package."
   ]
  },
  {
   "cell_type": "code",
   "execution_count": null,
   "metadata": {
    "dotnet_interactive": {
     "language": "csharp"
    },
    "polyglot_notebook": {
     "kernelName": "csharp"
    },
    "vscode": {
     "languageId": "polyglot-notebook"
    }
   },
   "outputs": [],
   "source": [
    "    // To create a new package as a Word document.\n",
    "    public static void CreateNewWordDocument(string document)\n",
    "    {\n",
    "        using (WordprocessingDocument wordDoc = WordprocessingDocument.Create(document, WordprocessingDocumentType.Document))\n",
    "        {\n",
    "            // Set the content of the document so that Word can open it.\n",
    "            MainDocumentPart mainPart = wordDoc.AddMainDocumentPart();\n",
    "\n",
    "            SetMainDocumentContent(mainPart);\n",
    "        }\n",
    "    }"
   ]
  },
  {
   "cell_type": "markdown",
   "metadata": {
    "dotnet_interactive": {
     "language": "csharp"
    },
    "polyglot_notebook": {
     "kernelName": "csharp"
    }
   },
   "source": []
  },
  {
   "cell_type": "markdown",
   "metadata": {
    "dotnet_interactive": {
     "language": "csharp"
    },
    "polyglot_notebook": {
     "kernelName": "csharp"
    }
   },
   "source": [
    "The code then calls the **SetMainDocumentContent** method to populate the new\n",
    "main document part."
   ]
  },
  {
   "cell_type": "code",
   "execution_count": null,
   "metadata": {
    "dotnet_interactive": {
     "language": "csharp"
    },
    "polyglot_notebook": {
     "kernelName": "csharp"
    },
    "vscode": {
     "languageId": "polyglot-notebook"
    }
   },
   "outputs": [],
   "source": [
    "    // Set the content of MainDocumentPart.\n",
    "    public static void SetMainDocumentContent(MainDocumentPart part)\n",
    "    {\n",
    "        const string docXml =\n",
    "         @\"<?xml version=\"\"1.0\"\" encoding=\"\"UTF-8\"\" standalone=\"\"yes\"\"?> \n",
    "    <w:document xmlns:w=\"\"https://schemas.openxmlformats.org/wordprocessingml/2006/main\"\">\n",
    "    <w:body>\n",
    "        <w:p>\n",
    "            <w:r>\n",
    "                <w:t>Hello world!</w:t>\n",
    "            </w:r>\n",
    "        </w:p>\n",
    "    </w:body>\n",
    "    </w:document>\";\n",
    "\n",
    "        using (Stream stream = part.GetStream())\n",
    "        {\n",
    "            byte[] buf = (new UTF8Encoding()).GetBytes(docXml);\n",
    "            stream.Write(buf, 0, buf.Length);\n",
    "        }\n",
    "    }"
   ]
  },
  {
   "cell_type": "markdown",
   "metadata": {
    "dotnet_interactive": {
     "language": "csharp"
    },
    "polyglot_notebook": {
     "kernelName": "csharp"
    }
   },
   "source": []
  },
  {
   "cell_type": "markdown",
   "metadata": {
    "dotnet_interactive": {
     "language": "csharp"
    },
    "polyglot_notebook": {
     "kernelName": "csharp"
    }
   },
   "source": [
    "## Sample Code\n",
    "\n",
    "The following is the complete code sample that you can use to create an\n",
    "Open XML word processing document package from XML content in the form\n",
    "of **WordprocessingML** markup. In your\n",
    "program, you can invoke the method **CreateNewWordDocument** by using the following\n",
    "call:"
   ]
  },
  {
   "cell_type": "code",
   "execution_count": null,
   "metadata": {
    "dotnet_interactive": {
     "language": "csharp"
    },
    "polyglot_notebook": {
     "kernelName": "csharp"
    },
    "vscode": {
     "languageId": "polyglot-notebook"
    }
   },
   "outputs": [],
   "source": [
    "    CreateNewWordDocument(@\"C:\\Users\\Public\\Documents\\MyPkg4.docx\");"
   ]
  },
  {
   "cell_type": "markdown",
   "metadata": {
    "dotnet_interactive": {
     "language": "csharp"
    },
    "polyglot_notebook": {
     "kernelName": "csharp"
    }
   },
   "source": []
  },
  {
   "cell_type": "markdown",
   "metadata": {
    "dotnet_interactive": {
     "language": "csharp"
    },
    "polyglot_notebook": {
     "kernelName": "csharp"
    }
   },
   "source": [
    "After you run the program, open the created file \"myPkg4.docx\" and\n",
    "examine its content; it should be one paragraph that contains the phrase\n",
    "\"Hello world!\"\n",
    "\n",
    "Following is the complete sample code in both C\\# and Visual Basic."
   ]
  },
  {
   "cell_type": "code",
   "execution_count": null,
   "metadata": {
    "dotnet_interactive": {
     "language": "csharp"
    },
    "polyglot_notebook": {
     "kernelName": "csharp"
    },
    "vscode": {
     "languageId": "polyglot-notebook"
    }
   },
   "outputs": [],
   "source": [
    "    // To create a new package as a Word document.\n",
    "    public static void CreateNewWordDocument(string document)\n",
    "    {\n",
    "       using (WordprocessingDocument wordDoc = WordprocessingDocument.Create(document, WordprocessingDocumentType.Document))\n",
    "       {\n",
    "          // Set the content of the document so that Word can open it.\n",
    "          MainDocumentPart mainPart = wordDoc.AddMainDocumentPart();\n",
    "\n",
    "          SetMainDocumentContent(mainPart);\n",
    "       }\n",
    "    }\n",
    "\n",
    "    // Set the content of MainDocumentPart.\n",
    "    public static void SetMainDocumentContent(MainDocumentPart part)\n",
    "    {\n",
    "       const string docXml =\n",
    "        @\"<?xml version=\"\"1.0\"\" encoding=\"\"UTF-8\"\" standalone=\"\"yes\"\"?> \n",
    "        <w:document xmlns:w=\"\"https://schemas.openxmlformats.org/wordprocessingml/2006/main\"\">\n",
    "            <w:body>\n",
    "                <w:p>\n",
    "                    <w:r>\n",
    "                        <w:t>Hello world!</w:t>\n",
    "                    </w:r>\n",
    "                </w:p>\n",
    "            </w:body>\n",
    "        </w:document>\";\n",
    "\n",
    "        using (Stream stream = part.GetStream())\n",
    "        {\n",
    "            byte[] buf = (new UTF8Encoding()).GetBytes(docXml);\n",
    "            stream.Write(buf, 0, buf.Length);\n",
    "        }\n",
    "    }"
   ]
  },
  {
   "cell_type": "markdown",
   "metadata": {
    "dotnet_interactive": {
     "language": "csharp"
    },
    "polyglot_notebook": {
     "kernelName": "csharp"
    }
   },
   "source": []
  },
  {
   "cell_type": "markdown",
   "metadata": {
    "dotnet_interactive": {
     "language": "csharp"
    },
    "polyglot_notebook": {
     "kernelName": "csharp"
    }
   },
   "source": [
    "## See also\n"
   ]
  },
  {
   "cell_type": "markdown",
   "metadata": {
    "dotnet_interactive": {
     "language": "csharp"
    },
    "polyglot_notebook": {
     "kernelName": "csharp"
    }
   },
   "source": [
    "- [Open XML SDK 2.5 class library reference](/office/open-xml/open-xml-sdk)\n",
    "\n",
    "\n"
   ]
  }
 ],
 "metadata": {
  "kernelspec": {
   "display_name": ".NET (C#)",
   "language": "C#",
   "name": ".net-csharp"
  },
  "polyglot_notebook": {
   "kernelInfo": {
    "defaultKernelName": "csharp",
    "items": [
     {
      "aliases": [
       "c#",
       "C#"
      ],
      "languageName": "C#",
      "name": "csharp"
     },
     {
      "aliases": [],
      "languageName": "Mermaid",
      "name": "mermaid"
     },
     {
      "aliases": [
       "frontend"
      ],
      "languageName": null,
      "name": "vscode"
     },
     {
      "aliases": [],
      "languageName": "KQL",
      "name": "kql"
     }
    ]
   }
  }
 },
 "nbformat": 4,
 "nbformat_minor": 2
}
