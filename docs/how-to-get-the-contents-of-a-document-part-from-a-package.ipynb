{
 "cells": [
  {
   "cell_type": "markdown",
   "metadata": {
    "dotnet_interactive": {
     "language": "csharp"
    },
    "polyglot_notebook": {
     "kernelName": "csharp"
    }
   },
   "source": [
    "# Get the contents of a document part from a package (Open XML SDK)\n",
    "\n",
    "This topic shows how to use the classes in the Open XML SDK 2.5 for\n",
    "Office to retrieve the contents of a document part in a Wordprocessing\n",
    "document programmatically.\n",
    "\n",
    "The following assembly directives are required to compile the code in\n",
    "this topic."
   ]
  },
  {
   "cell_type": "code",
   "execution_count": null,
   "metadata": {
    "dotnet_interactive": {
     "language": "csharp"
    },
    "polyglot_notebook": {
     "kernelName": "csharp"
    },
    "vscode": {
     "languageId": "polyglot-notebook"
    }
   },
   "outputs": [],
   "source": [
    "    using System;\n",
    "    using System.IO;\n",
    "    using DocumentFormat.OpenXml.Packaging;"
   ]
  },
  {
   "cell_type": "markdown",
   "metadata": {
    "dotnet_interactive": {
     "language": "csharp"
    },
    "polyglot_notebook": {
     "kernelName": "csharp"
    }
   },
   "source": []
  },
  {
   "cell_type": "markdown",
   "metadata": {
    "dotnet_interactive": {
     "language": "csharp"
    },
    "polyglot_notebook": {
     "kernelName": "csharp"
    }
   },
   "source": [
    "--------------------------------------------------------------------------------\n",
    "## Packages and Document Parts\n",
    "An Open XML document is stored as a package, whose format is defined by\n",
    "[ISO/IEC 29500-2](https://www.iso.org/standard/71691.html). The\n",
    "package can have multiple parts with relationships between them. The\n",
    "relationship between parts controls the category of the document. A\n",
    "document can be defined as a word-processing document if its\n",
    "package-relationship item contains a relationship to a main document\n",
    "part. If its package-relationship item contains a relationship to a\n",
    "presentation part it can be defined as a presentation document. If its\n",
    "package-relationship item contains a relationship to a workbook part, it\n",
    "is defined as a spreadsheet document. In this how-to topic, you will use\n",
    "a word-processing document package."
   ]
  },
  {
   "cell_type": "markdown",
   "metadata": {
    "dotnet_interactive": {
     "language": "csharp"
    },
    "polyglot_notebook": {
     "kernelName": "csharp"
    }
   },
   "source": [
    "---------------------------------------------------------------------------------\n",
    "## Getting a WordprocessingDocument Object\n",
    "The code starts with opening a package file by passing a file name to\n",
    "one of the overloaded [Open()](https://msdn.microsoft.com/library/office/documentformat.openxml.packaging.wordprocessingdocument.open.aspx) methods (Visual Basic .NET Shared\n",
    "method or C\\# static method) of the [WordprocessingDocument](https://msdn.microsoft.com/library/office/documentformat.openxml.packaging.wordprocessingdocument.aspx) class that takes a\n",
    "string and a Boolean value that specifies whether the file should be\n",
    "opened in read/write mode or not. In this case, the Boolean value is\n",
    "**false** specifying that the file should be\n",
    "opened in read-only mode to avoid accidental changes."
   ]
  },
  {
   "cell_type": "code",
   "execution_count": null,
   "metadata": {
    "dotnet_interactive": {
     "language": "csharp"
    },
    "polyglot_notebook": {
     "kernelName": "csharp"
    },
    "vscode": {
     "languageId": "polyglot-notebook"
    }
   },
   "outputs": [],
   "source": [
    "    // Open a Wordprocessing document for editing.\n",
    "    using (WordprocessingDocument wordDoc = WordprocessingDocument.Open(document, false))\n",
    "    {\n",
    "          // Insert other code here.\n",
    "    }"
   ]
  },
  {
   "cell_type": "markdown",
   "metadata": {
    "dotnet_interactive": {
     "language": "csharp"
    },
    "polyglot_notebook": {
     "kernelName": "csharp"
    }
   },
   "source": []
  },
  {
   "cell_type": "markdown",
   "metadata": {
    "dotnet_interactive": {
     "language": "csharp"
    },
    "polyglot_notebook": {
     "kernelName": "csharp"
    }
   },
   "source": [
    "The **using** statement provides a recommended\n",
    "alternative to the typical .Create, .Save, .Close sequence. It ensures\n",
    "that the **Dispose** method (internal method\n",
    "used by the Open XML SDK to clean up resources) is automatically called\n",
    "when the closing brace is reached. The block that follows the **using** statement establishes a scope for the\n",
    "object that is created or named in the **using** statement, in this case **wordDoc**. Because the **WordprocessingDocument** class in the Open XML SDK\n",
    "automatically saves and closes the object as part of its **System.IDisposable** implementation, and because\n",
    "the **Dispose** method is automatically called\n",
    "when you exit the block; you do not have to explicitly call **Save** and **Close**─as\n",
    "long as you use using."
   ]
  },
  {
   "cell_type": "markdown",
   "metadata": {
    "dotnet_interactive": {
     "language": "csharp"
    },
    "polyglot_notebook": {
     "kernelName": "csharp"
    }
   },
   "source": [
    "---------------------------------------------------------------------------------\n",
    "## Basic Structure of a WordProcessingML Document\n",
    "The basic document structure of a **WordProcessingML** document consists of the **document** and **body**\n",
    "elements, followed by one or more block level elements such as **p**, which represents a paragraph. A paragraph\n",
    "contains one or more **r** elements. The **r** stands for run, which is a region of text with\n",
    "a common set of properties, such as formatting. A run contains one or\n",
    "more **t** elements. The **t** element contains a range of text. The **WordprocessingML** markup for the document that the\n",
    "sample code creates is shown in the following code example.\n",
    "\n",
    "```xml\n",
    "    <w:document xmlns:w=\"https://schemas.openxmlformats.org/wordprocessingml/2006/main\">\n",
    "      <w:body>\n",
    "        <w:p>\n",
    "          <w:r>\n",
    "            <w:t>Create text in body - CreateWordprocessingDocument</w:t>\n",
    "          </w:r>\n",
    "        </w:p>\n",
    "      </w:body>\n",
    "    </w:document>\n",
    "```\n",
    "\n",
    "Using the Open XML SDK 2.5, you can create document structure and\n",
    "content using strongly-typed classes that correspond to **WordprocessingML** elements. You can find these\n",
    "classes in the [DocumentFormat.OpenXml.Wordprocessing](https://msdn.microsoft.com/library/office/documentformat.openxml.wordprocessing.aspx)\n",
    "namespace. The following table lists the class names of the classes that\n",
    "correspond to the **document**, **body**, **p**, **r**, and **t** elements.\n",
    "\n",
    "| WordprocessingML Element | Open XML SDK 2.5 Class | Description |\n",
    "|---|---|---|\n",
    "| document | [Document](https://msdn.microsoft.com/library/office/documentformat.openxml.wordprocessing.document.aspx) | The root element for the main document part. |\n",
    "| body | [Body](https://msdn.microsoft.com/library/office/documentformat.openxml.wordprocessing.body.aspx) | The container for the block level structures such as paragraphs, tables, annotations, and others specified in the [ISO/IEC 29500](https://www.iso.org/standard/71691.html) specification. |\n",
    "| p | [Paragraph](https://msdn.microsoft.com/library/office/documentformat.openxml.wordprocessing.paragraph.aspx) | A paragraph. |\n",
    "| r | [Run](https://msdn.microsoft.com/library/office/documentformat.openxml.wordprocessing.run.aspx) | A run. |\n",
    "| t | [Text](https://msdn.microsoft.com/library/office/documentformat.openxml.wordprocessing.text.aspx) | A range of text. |"
   ]
  },
  {
   "cell_type": "markdown",
   "metadata": {
    "dotnet_interactive": {
     "language": "csharp"
    },
    "polyglot_notebook": {
     "kernelName": "csharp"
    }
   },
   "source": [
    "--------------------------------------------------------------------------------\n",
    "## Comments Element\n",
    "In this how-to, you are going to work with comments. Therefore, it is\n",
    "useful to familiarize yourself with the structure of the \\<**comments**\\> element. The following information\n",
    "from the [ISO/IEC 29500](https://www.iso.org/standard/71691.html)\n",
    "specification can be useful when working with this element.\n",
    "\n",
    "This element specifies all of the comments defined in the current\n",
    "document. It is the root element of the comments part of a\n",
    "WordprocessingML document.Consider the following WordprocessingML\n",
    "fragment for the content of a comments part in a WordprocessingML\n",
    "document:\n",
    "\n",
    "```xml\n",
    "    <w:comments>\n",
    "      <w:comment … >\n",
    "        …\n",
    "      </w:comment>\n",
    "    </w:comments>\n",
    "```\n",
    "\n",
    "The **comments** element contains the single\n",
    "comment specified by this document in this example.\n",
    "\n",
    "The following XML schema fragment defines the contents of this element.\n",
    "\n",
    "```xml\n",
    "    <complexType name=\"CT_Comments\">\n",
    "       <sequence>\n",
    "           <element name=\"comment\" type=\"CT_Comment\" minOccurs=\"0\" maxOccurs=\"unbounded\"/>\n",
    "       </sequence>\n",
    "    </complexType>\n",
    "```\n",
    "\n",
    "--------------------------------------------------------------------------------\n",
    "## How the Sample Code Works\n",
    "After you have opened the source file for reading, you create a **mainPart** object by instantiating the **MainDocumentPart**. Then you can create a reference\n",
    "to the **WordprocessingCommentsPart** part of\n",
    "the document."
   ]
  },
  {
   "cell_type": "code",
   "execution_count": null,
   "metadata": {
    "dotnet_interactive": {
     "language": "csharp"
    },
    "polyglot_notebook": {
     "kernelName": "csharp"
    },
    "vscode": {
     "languageId": "polyglot-notebook"
    }
   },
   "outputs": [],
   "source": [
    "    // To get the contents of a document part.\n",
    "    public static string GetCommentsFromDocument(string document)\n",
    "    {\n",
    "        string comments = null;\n",
    "\n",
    "        using (WordprocessingDocument wordDoc = WordprocessingDocument.Open(document, true))\n",
    "        {\n",
    "            MainDocumentPart mainPart = wordDoc.MainDocumentPart;\n",
    "            WordprocessingCommentsPart WordprocessingCommentsPart = mainPart.WordprocessingCommentsPart;"
   ]
  },
  {
   "cell_type": "markdown",
   "metadata": {
    "dotnet_interactive": {
     "language": "csharp"
    },
    "polyglot_notebook": {
     "kernelName": "csharp"
    }
   },
   "source": []
  },
  {
   "cell_type": "markdown",
   "metadata": {
    "dotnet_interactive": {
     "language": "csharp"
    },
    "polyglot_notebook": {
     "kernelName": "csharp"
    }
   },
   "source": [
    "You can then use a **StreamReader** object to\n",
    "read the contents of the **WordprocessingCommentsPart** part of the document\n",
    "and return its contents."
   ]
  },
  {
   "cell_type": "code",
   "execution_count": null,
   "metadata": {
    "dotnet_interactive": {
     "language": "csharp"
    },
    "polyglot_notebook": {
     "kernelName": "csharp"
    },
    "vscode": {
     "languageId": "polyglot-notebook"
    }
   },
   "outputs": [],
   "source": [
    "    using (StreamReader streamReader = new StreamReader(WordprocessingCommentsPart.GetStream()))\n",
    "            {\n",
    "                comments = streamReader.ReadToEnd();\n",
    "            }\n",
    "        }\n",
    "        return comments;"
   ]
  },
  {
   "cell_type": "markdown",
   "metadata": {
    "dotnet_interactive": {
     "language": "csharp"
    },
    "polyglot_notebook": {
     "kernelName": "csharp"
    }
   },
   "source": []
  },
  {
   "cell_type": "markdown",
   "metadata": {
    "dotnet_interactive": {
     "language": "csharp"
    },
    "polyglot_notebook": {
     "kernelName": "csharp"
    }
   },
   "source": [
    "--------------------------------------------------------------------------------\n",
    "## Sample Code\n",
    "The following code retrieves the contents of a **WordprocessingCommentsPart** part contained in a\n",
    "**WordProcessing** document package. You can\n",
    "run the program by calling the **GetCommentsFromDocument** method as shown in the\n",
    "following example."
   ]
  },
  {
   "cell_type": "code",
   "execution_count": null,
   "metadata": {
    "dotnet_interactive": {
     "language": "csharp"
    },
    "polyglot_notebook": {
     "kernelName": "csharp"
    },
    "vscode": {
     "languageId": "polyglot-notebook"
    }
   },
   "outputs": [],
   "source": [
    "    string document = @\"C:\\Users\\Public\\Documents\\MyPkg5.docx\";\n",
    "    GetCommentsFromDocument(document);"
   ]
  },
  {
   "cell_type": "markdown",
   "metadata": {
    "dotnet_interactive": {
     "language": "csharp"
    },
    "polyglot_notebook": {
     "kernelName": "csharp"
    }
   },
   "source": []
  },
  {
   "cell_type": "markdown",
   "metadata": {
    "dotnet_interactive": {
     "language": "csharp"
    },
    "polyglot_notebook": {
     "kernelName": "csharp"
    }
   },
   "source": [
    "Following is the complete code example in both C\\# and Visual Basic."
   ]
  },
  {
   "cell_type": "code",
   "execution_count": null,
   "metadata": {
    "dotnet_interactive": {
     "language": "csharp"
    },
    "polyglot_notebook": {
     "kernelName": "csharp"
    },
    "vscode": {
     "languageId": "polyglot-notebook"
    }
   },
   "outputs": [],
   "source": [
    "    // To get the contents of a document part.\n",
    "    public static string GetCommentsFromDocument(string document)\n",
    "    {\n",
    "        string comments = null;\n",
    "\n",
    "        using (WordprocessingDocument wordDoc = WordprocessingDocument.Open(document, false))\n",
    "        {\n",
    "            MainDocumentPart mainPart = wordDoc.MainDocumentPart;\n",
    "            WordprocessingCommentsPart WordprocessingCommentsPart = mainPart.WordprocessingCommentsPart;\n",
    "\n",
    "            using (StreamReader streamReader = new StreamReader(WordprocessingCommentsPart.GetStream()))\n",
    "            {\n",
    "                comments = streamReader.ReadToEnd();\n",
    "            }\n",
    "        }\n",
    "        return comments;\n",
    "    }"
   ]
  },
  {
   "cell_type": "markdown",
   "metadata": {
    "dotnet_interactive": {
     "language": "csharp"
    },
    "polyglot_notebook": {
     "kernelName": "csharp"
    }
   },
   "source": []
  },
  {
   "cell_type": "markdown",
   "metadata": {
    "dotnet_interactive": {
     "language": "csharp"
    },
    "polyglot_notebook": {
     "kernelName": "csharp"
    }
   },
   "source": [
    "--------------------------------------------------------------------------------\n",
    "## See also"
   ]
  },
  {
   "cell_type": "markdown",
   "metadata": {
    "dotnet_interactive": {
     "language": "csharp"
    },
    "polyglot_notebook": {
     "kernelName": "csharp"
    }
   },
   "source": [
    "[Open XML SDK 2.5 class library reference](https://msdn.microsoft.com/library/36c8a76e-ce1b-5959-7e85-5d77db7f46d6(Office.15).aspx)"
   ]
  }
 ],
 "metadata": {
  "kernelspec": {
   "display_name": ".NET (C#)",
   "language": "C#",
   "name": ".net-csharp"
  },
  "polyglot_notebook": {
   "kernelInfo": {
    "defaultKernelName": "csharp",
    "items": [
     {
      "aliases": [
       "c#",
       "C#"
      ],
      "languageName": "C#",
      "name": "csharp"
     },
     {
      "aliases": [
       "f#",
       "F#"
      ],
      "languageName": "F#",
      "name": "fsharp"
     },
     {
      "aliases": [
       "frontend"
      ],
      "languageName": null,
      "name": "vscode"
     }
    ]
   }
  }
 },
 "nbformat": 4,
 "nbformat_minor": 2
}
