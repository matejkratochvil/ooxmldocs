{
 "cells": [
  {
   "cell_type": "markdown",
   "metadata": {
    "dotnet_interactive": {
     "language": "csharp"
    },
    "polyglot_notebook": {
     "kernelName": "csharp"
    }
   },
   "source": [
    "# Get all the text in a slide in a presentation (Open XML SDK)\n",
    "\n",
    "This topic shows how to use the classes in the Open XML SDK 2.5 for\n",
    "Office to get all the text in a slide in a presentation\n",
    "programmatically.\n",
    "\n",
    "The following assembly directives are required to compile the code in\n",
    "this topic."
   ]
  },
  {
   "cell_type": "code",
   "execution_count": null,
   "metadata": {
    "dotnet_interactive": {
     "language": "csharp"
    },
    "polyglot_notebook": {
     "kernelName": "csharp"
    },
    "vscode": {
     "languageId": "polyglot-notebook"
    }
   },
   "outputs": [],
   "source": [
    "    using System;\n",
    "    using System.Collections.Generic;\n",
    "    using System.Linq;\n",
    "    using System.Text;\n",
    "    using DocumentFormat.OpenXml.Presentation;\n",
    "    using DocumentFormat.OpenXml.Packaging;"
   ]
  },
  {
   "cell_type": "markdown",
   "metadata": {
    "dotnet_interactive": {
     "language": "csharp"
    },
    "polyglot_notebook": {
     "kernelName": "csharp"
    }
   },
   "source": []
  },
  {
   "cell_type": "markdown",
   "metadata": {
    "dotnet_interactive": {
     "language": "csharp"
    },
    "polyglot_notebook": {
     "kernelName": "csharp"
    }
   },
   "source": [
    "--------------------------------------------------------------------------------\n",
    "## Getting a PresentationDocument object\n",
    "In the Open XML SDK, the [PresentationDocument](https://msdn.microsoft.com/library/office/documentformat.openxml.packaging.presentationdocument.aspx) class represents a\n",
    "presentation document package. To work with a presentation document,\n",
    "first create an instance of the **PresentationDocument** class, and then work with\n",
    "that instance. To create the class instance from the document call the\n",
    "[PresentationDocument.Open(String, Boolean)](https://msdn.microsoft.com/library/office/cc562287.aspx)\n",
    "method that uses a file path, and a Boolean value as the second\n",
    "parameter to specify whether a document is editable. To open a document\n",
    "for read/write access, assign the value **true** to this parameter; for read-only access\n",
    "assign it the value **false** as shown in the\n",
    "following **using** statement. In this code,\n",
    "the **file** parameter is a string that\n",
    "represents the path for the file from which you want to open the\n",
    "document."
   ]
  },
  {
   "cell_type": "code",
   "execution_count": null,
   "metadata": {
    "dotnet_interactive": {
     "language": "csharp"
    },
    "polyglot_notebook": {
     "kernelName": "csharp"
    },
    "vscode": {
     "languageId": "polyglot-notebook"
    }
   },
   "outputs": [],
   "source": [
    "    // Open the presentation as read-only.\n",
    "        using (PresentationDocument presentationDocument = PresentationDocument.Open(presentationFile, false))\n",
    "    {\n",
    "        // Insert other code here.\n",
    "    }"
   ]
  },
  {
   "cell_type": "markdown",
   "metadata": {
    "dotnet_interactive": {
     "language": "csharp"
    },
    "polyglot_notebook": {
     "kernelName": "csharp"
    }
   },
   "source": []
  },
  {
   "cell_type": "markdown",
   "metadata": {
    "dotnet_interactive": {
     "language": "csharp"
    },
    "polyglot_notebook": {
     "kernelName": "csharp"
    }
   },
   "source": [
    "The **using** statement provides a recommended\n",
    "alternative to the typical .Open, .Save, .Close sequence. It ensures\n",
    "that the **Dispose** method (internal method\n",
    "used by the Open XML SDK to clean up resources) is automatically called\n",
    "when the closing brace is reached. The block that follows the **using** statement establishes a scope for the\n",
    "object that is created or named in the **using** statement, in this case **presentationDocument**."
   ]
  },
  {
   "cell_type": "markdown",
   "metadata": {
    "dotnet_interactive": {
     "language": "csharp"
    },
    "polyglot_notebook": {
     "kernelName": "csharp"
    }
   },
   "source": [
    "--------------------------------------------------------------------------------\n",
    "## Basic Presentation Document Structure\n",
    "The basic document structure of a **PresentationML** document consists of the main part\n",
    "that contains the presentation definition. The following text from the\n",
    "[ISO/IEC 29500](https://www.iso.org/standard/71691.html)\n",
    "specification introduces the overall form of a **PresentationML** package.\n",
    "\n",
    "> A PresentationML package's main part starts with a presentation root\n",
    "> element. That element contains a presentation, which, in turn, refers\n",
    "> to a **slide** list, a **slide\n",
    "> master** list, a **notes master** list, and\n",
    "> a **handout master** list. The slide list refers\n",
    "> to all of the slides in the presentation; the slide master list refers\n",
    "> to the entire slide masters used in the presentation; the notes master\n",
    "> contains information about the formatting of notes pages; and the\n",
    "> handout master describes how a handout looks.\n",
    "> \n",
    "> A **handout** is a printed set of slides that\n",
    "> can be provided to an **audience** for future\n",
    "> reference.\n",
    "> \n",
    "> As well as text and graphics, each slide can contain <span\n",
    "> class=\"term\">comments** and **notes**, can\n",
    "> have a **layout**, and can be part of one or\n",
    "> more **custom presentations**. (A comment is an\n",
    "> annotation intended for the person maintaining the presentation slide\n",
    "> deck. A note is a reminder or piece of text intended for the presenter\n",
    "> or the audience.)\n",
    "> \n",
    "> Other features that a PresentationML document can include the\n",
    "> following: **animation**, <span\n",
    "> class=\"term\">audio<strong>, **video</strong>, and <span\n",
    "> class=\"term\">transitions** between slides.\n",
    "> \n",
    "> A PresentationML document is not stored as one large body in a single\n",
    "> part. Instead, the elements that implement certain groupings of\n",
    "> functionality are stored in separate parts. For example, all comments\n",
    "> in a document are stored in one comment part while each slide has its\n",
    "> own part.\n",
    "> \n",
    "> The following XML code segment represents a presentation that contains\n",
    "two slides denoted by the ID 267 and 256.\n",
    "\n",
    "```xml\n",
    "    <p:presentation xmlns:p=\"…\" … > \n",
    "       <p:sldMasterIdLst>\n",
    "          <p:sldMasterId\n",
    "             xmlns:rel=\"https://…/relationships\" rel:id=\"rId1\"/>\n",
    "       </p:sldMasterIdLst>\n",
    "       <p:notesMasterIdLst>\n",
    "          <p:notesMasterId\n",
    "             xmlns:rel=\"https://…/relationships\" rel:id=\"rId4\"/>\n",
    "       </p:notesMasterIdLst>\n",
    "       <p:handoutMasterIdLst>\n",
    "          <p:handoutMasterId\n",
    "             xmlns:rel=\"https://…/relationships\" rel:id=\"rId5\"/>\n",
    "       </p:handoutMasterIdLst>\n",
    "       <p:sldIdLst>\n",
    "          <p:sldId id=\"267\"\n",
    "             xmlns:rel=\"https://…/relationships\" rel:id=\"rId2\"/>\n",
    "          <p:sldId id=\"256\"\n",
    "             xmlns:rel=\"https://…/relationships\" rel:id=\"rId3\"/>\n",
    "       </p:sldIdLst>\n",
    "           <p:sldSz cx=\"9144000\" cy=\"6858000\"/>\n",
    "       <p:notesSz cx=\"6858000\" cy=\"9144000\"/>\n",
    "    </p:presentation>\n",
    "```\n",
    "\n",
    "Using the Open XML SDK 2.5, you can create document structure and\n",
    "content using strongly-typed classes that correspond to **PresentationML** elements. You can find these\n",
    "classes in the [DocumentFormat.OpenXml.Presentation](https://msdn.microsoft.com/library/office/documentformat.openxml.presentation.aspx)\n",
    "namespace. The following table lists the class names of the classes that\n",
    "correspond to the **sld**, **sldLayout**, **sldMaster**, and **notesMaster** elements.\n",
    "\n",
    "| PresentationML Element | Open XML SDK 2.5 Class | Description |\n",
    "|---|---|---|\n",
    "| sld | Slide | Presentation Slide. It is the root element of SlidePart. |\n",
    "| sldLayout | SlideLayout | Slide Layout. It is the root element of SlideLayoutPart. |\n",
    "| sldMaster | SlideMaster | Slide Master. It is the root element of SlideMasterPart. |\n",
    "| notesMaster | NotesMaster | Notes Master (or handoutMaster). It is the root element of NotesMasterPart. |"
   ]
  },
  {
   "cell_type": "markdown",
   "metadata": {
    "dotnet_interactive": {
     "language": "csharp"
    },
    "polyglot_notebook": {
     "kernelName": "csharp"
    }
   },
   "source": [
    "--------------------------------------------------------------------------------\n",
    "## How the Sample Code Works\n",
    "The sample code consists of three overloads of the **GetAllTextInSlide** method. In the following\n",
    "segment, the first overloaded method opens the source presentation that\n",
    "contains the slide with text to get, and passes the presentation to the\n",
    "second overloaded method, which gets the slide part. This method returns\n",
    "the array of strings that the second method returns to it, each of which\n",
    "represents a paragraph of text in the specified slide."
   ]
  },
  {
   "cell_type": "code",
   "execution_count": null,
   "metadata": {
    "dotnet_interactive": {
     "language": "csharp"
    },
    "polyglot_notebook": {
     "kernelName": "csharp"
    },
    "vscode": {
     "languageId": "polyglot-notebook"
    }
   },
   "outputs": [],
   "source": [
    "    // Get all the text in a slide.\n",
    "    public static string[] GetAllTextInSlide(string presentationFile, int slideIndex)\n",
    "    {\n",
    "        // Open the presentation as read-only.\n",
    "        using (PresentationDocument presentationDocument = PresentationDocument.Open(presentationFile, false))\n",
    "        {\n",
    "            // Pass the presentation and the slide index\n",
    "            // to the next GetAllTextInSlide method, and\n",
    "            // then return the array of strings it returns. \n",
    "            return GetAllTextInSlide(presentationDocument, slideIndex);\n",
    "        }\n",
    "    }"
   ]
  },
  {
   "cell_type": "markdown",
   "metadata": {
    "dotnet_interactive": {
     "language": "csharp"
    },
    "polyglot_notebook": {
     "kernelName": "csharp"
    }
   },
   "source": []
  },
  {
   "cell_type": "markdown",
   "metadata": {
    "dotnet_interactive": {
     "language": "csharp"
    },
    "polyglot_notebook": {
     "kernelName": "csharp"
    }
   },
   "source": [
    "The second overloaded method takes the presentation document passed in\n",
    "and gets a slide part to pass to the third overloaded method. It returns\n",
    "to the first overloaded method the array of strings that the third\n",
    "overloaded method returns to it, each of which represents a paragraph of\n",
    "text in the specified slide."
   ]
  },
  {
   "cell_type": "code",
   "execution_count": null,
   "metadata": {
    "dotnet_interactive": {
     "language": "csharp"
    },
    "polyglot_notebook": {
     "kernelName": "csharp"
    },
    "vscode": {
     "languageId": "polyglot-notebook"
    }
   },
   "outputs": [],
   "source": [
    "    public static string[] GetAllTextInSlide(PresentationDocument presentationDocument, int slideIndex)\n",
    "    {\n",
    "        // Verify that the presentation document exists.\n",
    "        if (presentationDocument == null)\n",
    "        {\n",
    "            throw new ArgumentNullException(\"presentationDocument\");\n",
    "        }\n",
    "\n",
    "        // Verify that the slide index is not out of range.\n",
    "        if (slideIndex < 0)\n",
    "        {\n",
    "            throw new ArgumentOutOfRangeException(\"slideIndex\");\n",
    "        }\n",
    "\n",
    "        // Get the presentation part of the presentation document.\n",
    "        PresentationPart presentationPart = presentationDocument.PresentationPart;\n",
    "\n",
    "        // Verify that the presentation part and presentation exist.\n",
    "        if (presentationPart != null && presentationPart.Presentation != null)\n",
    "        {\n",
    "            // Get the Presentation object from the presentation part.\n",
    "            Presentation presentation = presentationPart.Presentation;\n",
    "\n",
    "            // Verify that the slide ID list exists.\n",
    "            if (presentation.SlideIdList != null)\n",
    "            {\n",
    "                // Get the collection of slide IDs from the slide ID list.\n",
    "                var slideIds = presentation.SlideIdList.ChildElements;\n",
    "\n",
    "                // If the slide ID is in range...\n",
    "                if (slideIndex < slideIds.Count)\n",
    "                {\n",
    "                    // Get the relationship ID of the slide.\n",
    "                    string slidePartRelationshipId = (slideIds[slideIndex] as SlideId).RelationshipId;\n",
    "\n",
    "                    // Get the specified slide part from the relationship ID.\n",
    "                    SlidePart slidePart = (SlidePart)presentationPart.GetPartById(slidePartRelationshipId);\n",
    "\n",
    "                    // Pass the slide part to the next method, and\n",
    "                    // then return the array of strings that method\n",
    "                    // returns to the previous method.\n",
    "                    return GetAllTextInSlide(slidePart);\n",
    "                }\n",
    "            }\n",
    "        }\n",
    "        // Else, return null.\n",
    "        return null;\n",
    "    }"
   ]
  },
  {
   "cell_type": "markdown",
   "metadata": {
    "dotnet_interactive": {
     "language": "csharp"
    },
    "polyglot_notebook": {
     "kernelName": "csharp"
    }
   },
   "source": []
  },
  {
   "cell_type": "markdown",
   "metadata": {
    "dotnet_interactive": {
     "language": "csharp"
    },
    "polyglot_notebook": {
     "kernelName": "csharp"
    }
   },
   "source": [
    "The following code segment shows the third overloaded method, which\n",
    "takes takes the slide part passed in, and returns to the second\n",
    "overloaded method a string array of text paragraphs. It starts by\n",
    "verifying that the slide part passed in exists, and then it creates a\n",
    "linked list of strings. It iterates through the paragraphs in the slide\n",
    "passed in, and using a **StringBuilder** object\n",
    "to concatenate all the lines of text in a paragraph, it assigns each\n",
    "paragraph to a string in the linked list. It then returns to the second\n",
    "overloaded method an array of strings that represents all the text in\n",
    "the specified slide in the presentation."
   ]
  },
  {
   "cell_type": "code",
   "execution_count": null,
   "metadata": {
    "dotnet_interactive": {
     "language": "csharp"
    },
    "polyglot_notebook": {
     "kernelName": "csharp"
    },
    "vscode": {
     "languageId": "polyglot-notebook"
    }
   },
   "outputs": [],
   "source": [
    "    public static string[] GetAllTextInSlide(SlidePart slidePart)\n",
    "    {\n",
    "        // Verify that the slide part exists.\n",
    "        if (slidePart == null)\n",
    "        {\n",
    "            throw new ArgumentNullException(\"slidePart\");\n",
    "        }\n",
    "\n",
    "        // Create a new linked list of strings.\n",
    "        LinkedList<string> texts = new LinkedList<string>();\n",
    "\n",
    "        // If the slide exists...\n",
    "        if (slidePart.Slide != null)\n",
    "        {\n",
    "            // Iterate through all the paragraphs in the slide.\n",
    "            foreach (var paragraph in slidePart.Slide.Descendants<DocumentFormat.OpenXml.Drawing.Paragraph>())\n",
    "            {\n",
    "                // Create a new string builder.                    \n",
    "                StringBuilder paragraphText = new StringBuilder();\n",
    "\n",
    "                // Iterate through the lines of the paragraph.\n",
    "                foreach (var text in paragraph.Descendants<DocumentFormat.OpenXml.Drawing.Text>())\n",
    "                {\n",
    "                    // Append each line to the previous lines.\n",
    "                    paragraphText.Append(text.Text);\n",
    "                }\n",
    "\n",
    "                if (paragraphText.Length > 0)\n",
    "                {\n",
    "                    // Add each paragraph to the linked list.\n",
    "                    texts.AddLast(paragraphText.ToString());\n",
    "                }\n",
    "            }\n",
    "        }\n",
    "\n",
    "        if (texts.Count > 0)\n",
    "        {\n",
    "            // Return an array of strings.\n",
    "            return texts.ToArray();\n",
    "        }\n",
    "        else\n",
    "        {\n",
    "            return null;\n",
    "        }\n",
    "    }"
   ]
  },
  {
   "cell_type": "markdown",
   "metadata": {
    "dotnet_interactive": {
     "language": "csharp"
    },
    "polyglot_notebook": {
     "kernelName": "csharp"
    }
   },
   "source": []
  },
  {
   "cell_type": "markdown",
   "metadata": {
    "dotnet_interactive": {
     "language": "csharp"
    },
    "polyglot_notebook": {
     "kernelName": "csharp"
    }
   },
   "source": [
    "--------------------------------------------------------------------------------\n",
    "## Sample Code\n",
    "Following is the complete sample code that you can use to get all the\n",
    "text in a specific slide in a presentation file. For example, you can\n",
    "use the following **foreach** loop in your\n",
    "program to get the array of strings returned by the method **GetAllTextInSlide**, which represents the text in\n",
    "the second slide of the presentation file \"Myppt8.pptx.\""
   ]
  },
  {
   "cell_type": "code",
   "execution_count": null,
   "metadata": {
    "dotnet_interactive": {
     "language": "csharp"
    },
    "polyglot_notebook": {
     "kernelName": "csharp"
    },
    "vscode": {
     "languageId": "polyglot-notebook"
    }
   },
   "outputs": [],
   "source": [
    "    foreach (string s in GetAllTextInSlide(@\"C:\\Users\\Public\\Documents\\Myppt8.pptx\", 1))\n",
    "        Console.WriteLine(s);"
   ]
  },
  {
   "cell_type": "markdown",
   "metadata": {
    "dotnet_interactive": {
     "language": "csharp"
    },
    "polyglot_notebook": {
     "kernelName": "csharp"
    }
   },
   "source": []
  },
  {
   "cell_type": "markdown",
   "metadata": {
    "dotnet_interactive": {
     "language": "csharp"
    },
    "polyglot_notebook": {
     "kernelName": "csharp"
    }
   },
   "source": [
    "Following is the complete sample code in both C\\# and Visual Basic."
   ]
  },
  {
   "cell_type": "code",
   "execution_count": null,
   "metadata": {
    "dotnet_interactive": {
     "language": "csharp"
    },
    "polyglot_notebook": {
     "kernelName": "csharp"
    },
    "vscode": {
     "languageId": "polyglot-notebook"
    }
   },
   "outputs": [],
   "source": [
    "    // Get all the text in a slide.\n",
    "    public static string[] GetAllTextInSlide(string presentationFile, int slideIndex)\n",
    "    {\n",
    "        // Open the presentation as read-only.\n",
    "        using (PresentationDocument presentationDocument = PresentationDocument.Open(presentationFile, false))\n",
    "        {\n",
    "            // Pass the presentation and the slide index\n",
    "            // to the next GetAllTextInSlide method, and\n",
    "            // then return the array of strings it returns. \n",
    "            return GetAllTextInSlide(presentationDocument, slideIndex);\n",
    "        }\n",
    "    }\n",
    "    public static string[] GetAllTextInSlide(PresentationDocument presentationDocument, int slideIndex)\n",
    "    {\n",
    "        // Verify that the presentation document exists.\n",
    "        if (presentationDocument == null)\n",
    "        {\n",
    "            throw new ArgumentNullException(\"presentationDocument\");\n",
    "        }\n",
    "\n",
    "        // Verify that the slide index is not out of range.\n",
    "        if (slideIndex < 0)\n",
    "        {\n",
    "            throw new ArgumentOutOfRangeException(\"slideIndex\");\n",
    "        }\n",
    "\n",
    "        // Get the presentation part of the presentation document.\n",
    "        PresentationPart presentationPart = presentationDocument.PresentationPart;\n",
    "\n",
    "        // Verify that the presentation part and presentation exist.\n",
    "        if (presentationPart != null && presentationPart.Presentation != null)\n",
    "        {\n",
    "            // Get the Presentation object from the presentation part.\n",
    "            Presentation presentation = presentationPart.Presentation;\n",
    "\n",
    "            // Verify that the slide ID list exists.\n",
    "            if (presentation.SlideIdList != null)\n",
    "            {\n",
    "                // Get the collection of slide IDs from the slide ID list.\n",
    "                DocumentFormat.OpenXml.OpenXmlElementList slideIds = \n",
    "                    presentation.SlideIdList.ChildElements;\n",
    "\n",
    "                // If the slide ID is in range...\n",
    "                if (slideIndex < slideIds.Count)\n",
    "                {\n",
    "                    // Get the relationship ID of the slide.\n",
    "                    string slidePartRelationshipId = (slideIds[slideIndex] as SlideId).RelationshipId;\n",
    "\n",
    "                    // Get the specified slide part from the relationship ID.\n",
    "                    SlidePart slidePart = \n",
    "                        (SlidePart)presentationPart.GetPartById(slidePartRelationshipId);\n",
    "\n",
    "                    // Pass the slide part to the next method, and\n",
    "                    // then return the array of strings that method\n",
    "                    // returns to the previous method.\n",
    "                    return GetAllTextInSlide(slidePart);\n",
    "                }\n",
    "            }\n",
    "        }\n",
    "\n",
    "        // Else, return null.\n",
    "        return null;\n",
    "    }\n",
    "    public static string[] GetAllTextInSlide(SlidePart slidePart)\n",
    "    {\n",
    "        // Verify that the slide part exists.\n",
    "        if (slidePart == null)\n",
    "        {\n",
    "            throw new ArgumentNullException(\"slidePart\");\n",
    "        }\n",
    "\n",
    "        // Create a new linked list of strings.\n",
    "        LinkedList<string> texts = new LinkedList<string>();\n",
    "\n",
    "        // If the slide exists...\n",
    "        if (slidePart.Slide != null)\n",
    "        {\n",
    "            // Iterate through all the paragraphs in the slide.\n",
    "            foreach (DocumentFormat.OpenXml.Drawing.Paragraph paragraph in \n",
    "                slidePart.Slide.Descendants<DocumentFormat.OpenXml.Drawing.Paragraph>())\n",
    "            {\n",
    "                // Create a new string builder.                    \n",
    "                StringBuilder paragraphText = new StringBuilder();\n",
    "\n",
    "                // Iterate through the lines of the paragraph.\n",
    "                foreach (DocumentFormat.OpenXml.Drawing.Text text in \n",
    "                    paragraph.Descendants<DocumentFormat.OpenXml.Drawing.Text>())\n",
    "                {\n",
    "                    // Append each line to the previous lines.\n",
    "                    paragraphText.Append(text.Text);\n",
    "                }\n",
    "\n",
    "                if (paragraphText.Length > 0)\n",
    "                {\n",
    "                    // Add each paragraph to the linked list.\n",
    "                    texts.AddLast(paragraphText.ToString());\n",
    "                }\n",
    "            }\n",
    "        }\n",
    "\n",
    "        if (texts.Count > 0)\n",
    "        {\n",
    "            // Return an array of strings.\n",
    "            return texts.ToArray();\n",
    "        }\n",
    "        else\n",
    "        {\n",
    "            return null;\n",
    "        }\n",
    "    }"
   ]
  },
  {
   "cell_type": "markdown",
   "metadata": {
    "dotnet_interactive": {
     "language": "csharp"
    },
    "polyglot_notebook": {
     "kernelName": "csharp"
    }
   },
   "source": []
  },
  {
   "cell_type": "markdown",
   "metadata": {
    "dotnet_interactive": {
     "language": "csharp"
    },
    "polyglot_notebook": {
     "kernelName": "csharp"
    }
   },
   "source": [
    "--------------------------------------------------------------------------------\n",
    "## See also"
   ]
  },
  {
   "cell_type": "markdown",
   "metadata": {
    "dotnet_interactive": {
     "language": "csharp"
    },
    "polyglot_notebook": {
     "kernelName": "csharp"
    }
   },
   "source": [
    "- [Open XML SDK 2.5 class library reference](/office/open-xml/open-xml-sdk)"
   ]
  }
 ],
 "metadata": {
  "kernelspec": {
   "display_name": ".NET (C#)",
   "language": "C#",
   "name": ".net-csharp"
  },
  "polyglot_notebook": {
   "kernelInfo": {
    "defaultKernelName": "csharp",
    "items": [
     {
      "aliases": [],
      "name": "csharp"
     },
     {
      "aliases": [],
      "languageName": "SQL",
      "name": "sql"
     },
     {
      "aliases": [
       "frontend"
      ],
      "languageName": null,
      "name": "vscode"
     }
    ]
   }
  }
 },
 "nbformat": 4,
 "nbformat_minor": 2
}
