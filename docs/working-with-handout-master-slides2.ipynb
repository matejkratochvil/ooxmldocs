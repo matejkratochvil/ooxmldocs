{
 "cells": [
  {
   "cell_type": "markdown",
   "metadata": {
    "dotnet_interactive": {
     "language": "csharp"
    },
    "polyglot_notebook": {
     "kernelName": "csharp"
    }
   },
   "source": [
    "# Working with handout master slides (Open XML SDK)\n",
    "\n",
    "This topic discusses the Open XML SDK 2.5 for Office [HandoutMaster](https://msdn.microsoft.com/library/office/documentformat.openxml.presentation.handoutmaster.aspx) class and how it relates to the Open XML File Format PresentationML schema. For more information about the overall structure of the parts and elements that make up a PresentationML document, see [Structure of a PresentationML document (Open XML SDK)](structure-of-a-presentationml-document.md).\n",
    "\n",
    "## Handout Master Slides in PresentationML\n",
    "The [ISO/IEC 29500](https://www.iso.org/iso/iso_catalogue/catalogue_tc/catalogue_detail.htm?csnumber=51463) specification describes the Open XML PresentationML \\<handoutMaster\\>\n",
    "element used to represent a handout master slide in a PresentationML document as follows:\n",
    "\n",
    "This element specifies an instance of a handout master slide. Within a\n",
    "handout master slide are contained all elements that describe the\n",
    "objects and their corresponding formatting for within a handout slide.\n",
    "Within a handout master slide the cSld element specifies the common\n",
    "slide elements such as shapes and their attached text bodies. There are\n",
    "other properties within a handout master slide but cSld encompasses the\n",
    "majority of the intended purpose for a handoutMaster slide.\n",
    "\n",
    "The following table lists the child elements of the \\<handoutMaster\\>\n",
    "element used when working with handout master slides and the Open XML\n",
    "SDK 2.5 classes that correspond to them."
   ]
  },
  {
   "cell_type": "markdown",
   "metadata": {
    "dotnet_interactive": {
     "language": "csharp"
    },
    "polyglot_notebook": {
     "kernelName": "csharp"
    }
   },
   "source": [
    "| **PresentationML Element** |                                                               **Open XML SDK 2.5 Class**                                                                |\n",
    "|----------------------------|--------------------------------------------------------------------------------------------------------------------------------------------|\n",
    "|         \\<clrMap\\>         |                      [ColorMap](https://msdn.microsoft.com/library/office/documentformat.openxml.presentation.colormap.aspx)                      |\n",
    "|          \\<cSld\\>          |               [CommonSlideData](https://msdn.microsoft.com/library/office/documentformat.openxml.presentation.commonslidedata.aspx)               |\n",
    "|         \\<extLst\\>         | [ExtensionListWithModification](https://msdn.microsoft.com/library/office/documentformat.openxml.presentation.extensionlistwithmodification.aspx) |\n",
    "|           \\<hf\\>           |                  [HeaderFooter](https://msdn.microsoft.com/library/office/documentformat.openxml.presentation.headerfooter.aspx)                  |\n",
    "\n",
    "## Open XML SDK 2.5 HandoutMaster Class\n",
    "\n",
    "The Open XML SDK 2.5 **HandoutMaster** class represents the \\<handoutMaster\\> element defined in the Open XML File Format schema for PresentationML documents. Use the **HandoutMaster** class to manipulate individual \\<handoutMaster\\> elements in a PresentationML document.\n",
    "\n",
    "Classes commonly associated with the **HandoutMaster** class are shown in the following sections.\n",
    "\n",
    "### ColorMap Class\n",
    "\n",
    "The **ColorMap** class corresponds to the \\<clrMap\\> element. The following information from the [ISO/IEC 29500](https://www.iso.org/iso/iso_catalogue/catalogue_tc/catalogue_detail.htm?csnumber=51463) specification introduces the \\<clrMap\\> element:\n",
    "\n",
    "This element specifies the mapping layer that transforms one color\n",
    "scheme definition to another. Each attribute represents a color name\n",
    "that can be referenced in this master, and the value is the\n",
    "corresponding color in the theme.\n",
    "\n",
    "**Example**: Consider the following mapping of colors that applies to a\n",
    "slide master:\n",
    "\n",
    "```xml\n",
    "<p:clrMap bg1=\"dk1\" tx1=\"lt1\" bg2=\"dk2\" tx2=\"lt2\" accent1=\"accent1\"  \n",
    "accent2=\"accent2\" accent3=\"accent3\" accent4=\"accent4\"\n",
    "accent5=\"accent5\"  \n",
    "accent6=\"accent6\" hlink=\"hlink\" folHlink=\"folHlink\"/>\n",
    "```\n",
    "\n",
    "### CommonSlideData Class\n",
    "\n",
    "The **CommonSlideData** class corresponds to\n",
    "the \\<cSld\\> element. The following information from the [ISO/IEC 29500](https://www.iso.org/iso/iso_catalogue/catalogue_tc/catalogue_detail.htm?csnumber=51463)\n",
    "specification introduces the \\<cSld\\> element:\n",
    "\n",
    "This element specifies a container for the type of slide information\n",
    "that is relevant to all of the slide types. All slides share a common\n",
    "set of properties that is independent of the slide type; the description\n",
    "of these properties for any particular slide is stored within the\n",
    "slide's \\<cSld\\> container. Slide data specific to the slide type\n",
    "indicated by the parent element is stored elsewhere.\n",
    "\n",
    "The actual data in \\<cSld\\> describe only the particular parent slide;\n",
    "it is only the type of information stored that is common across all\n",
    "slides.\n",
    "\n",
    "### ExtensionListWithModification Class\n",
    "\n",
    "The **ExtensionListWithModification** class\n",
    "corresponds to the \\<extLst\\>element. The following information from the\n",
    "[ISO/IEC 29500](https://www.iso.org/iso/iso_catalogue/catalogue_tc/catalogue_detail.htm?csnumber=51463)\n",
    "specification introduces the \\<extLst\\> element:\n",
    "\n",
    "This element specifies the extension list with modification ability\n",
    "within which all future extensions of element type \\<ext\\> are defined.\n",
    "The extension list along with corresponding future extensions is used to\n",
    "extend the storage capabilities of the PresentationML framework. This\n",
    "allows for various new kinds of data to be stored natively within the\n",
    "framework.\n",
    "\n",
    "> [!NOTE]\n",
    "> Using this extLst element allows the generating application to\n",
    "store whether this extension property has been modified.\n",
    "\n",
    "### HeaderFooter Class\n",
    "\n",
    "The **HeaderFooter** class corresponds to the\n",
    "\\<hf\\> element. The following information from the [ISO/IEC 29500](https://www.iso.org/iso/iso_catalogue/catalogue_tc/catalogue_detail.htm?csnumber=51463)\n",
    "specification introduces the \\<hf\\> element:\n",
    "\n",
    "This element specifies the header and footer information for a slide.\n",
    "Headers and footers consist of placeholders for text that should be\n",
    "consistent across all slides and slide types, such as a date and time,\n",
    "slide numbering, and custom header and footer text."
   ]
  },
  {
   "cell_type": "markdown",
   "metadata": {
    "dotnet_interactive": {
     "language": "csharp"
    },
    "polyglot_notebook": {
     "kernelName": "csharp"
    }
   },
   "source": [
    "## Working with the HandoutMaster Class\n",
    "\n",
    "As shown in the Open XML SDK code sample that follows, every instance of\n",
    "the **HandoutMaster** class is associated with\n",
    "an instance of the [HandoutMasterPart](https://msdn.microsoft.com/library/office/documentformat.openxml.packaging.handoutmasterpart.aspx) class, which represents a\n",
    "handout master part, one of the parts of a PresentationML presentation\n",
    "file package, and a part that is required for a presentation file that\n",
    "contains handouts.\n",
    "\n",
    "The **HandoutMaster** class, which represents\n",
    "the \\<handoutMaster\\> element, is therefore also associated with a\n",
    "series of other classes that represent the child elements of the\n",
    "\\<handoutMaster\\> element. Among these classes, as shown in the\n",
    "following code sample, are the **CommonSlideData** class, the **ColorMap** class, the [ShapeTree](https://msdn.microsoft.com/library/office/documentformat.openxml.presentation.shapetree.aspx) class, and the [Shape](https://msdn.microsoft.com/library/office/documentformat.openxml.presentation.shape.aspx) class.\n",
    "\n",
    "## Open XML SDK Code Example\n",
    "\n",
    "The following method adds a new handout master part to an existing\n",
    "presentation and creates an instance of an Open XML SDK 2.5**HandoutMaster** class in the new handout master\n",
    "part. The **HandoutMaster** class constructor\n",
    "creates instances of the **CommonSlideData**\n",
    "class and the **ColorMap** class. The **CommonSlideData** class constructor creates an\n",
    "instance of the [ShapeTree](https://msdn.microsoft.com/library/office/documentformat.openxml.presentation.shapetree.aspx) class, whose constructor, in\n",
    "turn, creates additional class instances: an instance of the [NonVisualGroupShapeProperties](https://msdn.microsoft.com/library/office/documentformat.openxml.presentation.nonvisualgroupshapeproperties.aspx) class, an\n",
    "instance of the [GroupShapeProperties](https://msdn.microsoft.com/library/office/documentformat.openxml.presentation.groupshapeproperties.aspx) class, and an instance\n",
    "of the [Shape](https://msdn.microsoft.com/library/office/documentformat.openxml.presentation.shape.aspx) class.\n",
    "\n",
    "The namespace represented by the letter *P* in the code is the [DocumentFormat.OpenXml.Presentation](https://msdn.microsoft.com/library/office/documentformat.openxml.presentation.aspx)\n",
    "namespace."
   ]
  },
  {
   "cell_type": "code",
   "execution_count": null,
   "metadata": {
    "dotnet_interactive": {
     "language": "csharp"
    },
    "polyglot_notebook": {
     "kernelName": "csharp"
    },
    "vscode": {
     "languageId": "polyglot-notebook"
    }
   },
   "outputs": [],
   "source": [
    "    private static HandoutMasterPart CreateHandoutMasterPart(PresentationPart presentationPart)\n",
    "        {\n",
    "            HandoutMasterPart handoutMasterPart1 = presentationPart.AddNewPart<HandoutMasterPart>(\"rId3\");\n",
    "            handoutMasterPart1.HandoutMaster = new HandoutMaster(\n",
    "                            new CommonSlideData(\n",
    "                                new ShapeTree(\n",
    "                                    new P.NonVisualGroupShapeProperties(\n",
    "                                        new P.NonVisualDrawingProperties() { Id = (UInt32Value)1U, Name = \"\" },\n",
    "                                        new P.NonVisualGroupShapeDrawingProperties(),\n",
    "                                        new ApplicationNonVisualDrawingProperties()),\n",
    "                                    new GroupShapeProperties(new TransformGroup()),\n",
    "                                    new P.Shape(\n",
    "                                        new P.NonVisualShapeProperties(\n",
    "                                            new P.NonVisualDrawingProperties() { Id = (UInt32Value)2U, Name = \"Title 1\" },\n",
    "                                            new P.NonVisualShapeDrawingProperties(new ShapeLocks() { NoGrouping = true }),\n",
    "                                            new ApplicationNonVisualDrawingProperties(new PlaceholderShape())),\n",
    "                                        new P.ShapeProperties(),\n",
    "                                        new P.TextBody(\n",
    "                                            new BodyProperties(),\n",
    "                                            new ListStyle(),\n",
    "                                            new Paragraph(new EndParagraphRunProperties() { Language = \"en-US\" }))))),\n",
    "                                    new P.ColorMap() { Background1 = D.ColorSchemeIndexValues.Light1, \n",
    "                                        Text1 = D.ColorSchemeIndexValues.Dark1, \n",
    "                                        Background2 = D.ColorSchemeIndexValues.Light2, \n",
    "                                        Text2 = D.ColorSchemeIndexValues.Dark2, \n",
    "                                        Accent1 = D.ColorSchemeIndexValues.Accent1, \n",
    "                                        Accent2 = D.ColorSchemeIndexValues.Accent2, \n",
    "                                        Accent3 = D.ColorSchemeIndexValues.Accent3, \n",
    "                                        Accent4 = D.ColorSchemeIndexValues.Accent4, \n",
    "                                        Accent5 = D.ColorSchemeIndexValues.Accent5, \n",
    "                                        Accent6 = D.ColorSchemeIndexValues.Accent6, \n",
    "                                        Hyperlink = D.ColorSchemeIndexValues.Hyperlink, \n",
    "                                        FollowedHyperlink = D.ColorSchemeIndexValues.FollowedHyperlink });\n",
    "                    return handoutMasterPart1;\n",
    "        }"
   ]
  },
  {
   "attachments": {},
   "cell_type": "markdown",
   "metadata": {
    "dotnet_interactive": {
     "language": "csharp"
    },
    "polyglot_notebook": {
     "kernelName": "csharp"
    }
   },
   "source": [
    "## Generated PresentationML\n",
    "\n",
    "When the Open XML SDK 2.5 code is run, the following XML is written to\n",
    "the PresentationML document referenced in the code.\n",
    "\n",
    "```xml\n",
    "    <?xml version=\"1.0\" encoding=\"utf-8\"?>\n",
    "    <p:handoutMaster xmlns:p=\"https://schemas.openxmlformats.org/presentationml/2006/main\">\n",
    "      <p:cSld>\n",
    "        <p:spTree>\n",
    "          <p:nvGrpSpPr>\n",
    "            <p:cNvPr id=\"1\"\n",
    "                     name=\"\" />\n",
    "            <p:cNvGrpSpPr />\n",
    "            <p:nvPr />\n",
    "          </p:nvGrpSpPr>\n",
    "          <p:grpSpPr>\n",
    "            <a:xfrm xmlns:a=\"https://schemas.openxmlformats.org/drawingml/2006/main\" />\n",
    "          </p:grpSpPr>\n",
    "          <p:sp>\n",
    "            <p:nvSpPr>\n",
    "              <p:cNvPr id=\"2\"\n",
    "                       name=\"Title 1\" />\n",
    "              <p:cNvSpPr>\n",
    "                <a:spLocks noGrp=\"1\"\n",
    "                           xmlns:a=\"https://schemas.openxmlformats.org/drawingml/2006/main\" />\n",
    "              </p:cNvSpPr>\n",
    "              <p:nvPr>\n",
    "                <p:ph />\n",
    "              </p:nvPr>\n",
    "            </p:nvSpPr>\n",
    "            <p:spPr />\n",
    "            <p:txBody>\n",
    "              <a:bodyPr xmlns:a=\"https://schemas.openxmlformats.org/drawingml/2006/main\" />\n",
    "              <a:lstStyle xmlns:a=\"https://schemas.openxmlformats.org/drawingml/2006/main\" />\n",
    "              <a:p xmlns:a=\"https://schemas.openxmlformats.org/drawingml/2006/main\">\n",
    "                <a:endParaRPr lang=\"en-US\" />\n",
    "              </a:p>\n",
    "            </p:txBody>\n",
    "          </p:sp>\n",
    "        </p:spTree>\n",
    "      </p:cSld>\n",
    "      <p:clrMap bg1=\"lt1\"\n",
    "                tx1=\"dk1\"\n",
    "                bg2=\"lt2\"\n",
    "                tx2=\"dk2\"\n",
    "                accent1=\"accent1\"\n",
    "                accent2=\"accent2\"\n",
    "                accent3=\"accent3\"\n",
    "                accent4=\"accent4\"\n",
    "                accent5=\"accent5\"\n",
    "                accent6=\"accent6\"\n",
    "                hlink=\"hlink\"\n",
    "                folHlink=\"folHlink\" />\n",
    "    </p:handoutMaster>\n",
    "```\n"
   ]
  },
  {
   "attachments": {},
   "cell_type": "markdown",
   "metadata": {
    "dotnet_interactive": {
     "language": "csharp"
    },
    "polyglot_notebook": {
     "kernelName": "csharp"
    }
   },
   "source": [
    "\n",
    "## See also\n",
    "\n",
    "[About the Open XML SDK 2.5 for Office](about-the-open-xml-sdk.md)  \n",
    "[How to: Create a presentation document by providing a file name (Open XML SDK)](how-to-create-a-presentation-document-by-providing-a-file-name.md)  \n",
    "[How to: Insert a new slide into a presentation (Open XML SDK)](how-to-insert-a-new-slide-into-a-presentation.md)  \n",
    "[How to: Delete a slide from a presentation (Open XML SDK)](how-to-delete-a-slide-from-a-presentation.md)  \n",
    "[How to: Retrieve the number of slides in a presentation document (Open XML SDK)](how-to-retrieve-the-number-of-slides-in-a-presentation-document.md)  \n",
    "[How to: Apply a theme to a presentation (Open XML SDK)](how-to-apply-a-theme-to-a-presentation.md)"
   ]
  },
  {
   "cell_type": "markdown",
   "metadata": {
    "dotnet_interactive": {
     "language": "csharp"
    },
    "polyglot_notebook": {
     "kernelName": "csharp"
    }
   },
   "source": []
  }
 ],
 "metadata": {
  "kernelspec": {
   "display_name": ".NET (C#)",
   "language": "C#",
   "name": ".net-csharp"
  },
  "polyglot_notebook": {
   "kernelInfo": {
    "defaultKernelName": "csharp",
    "items": [
     {
      "aliases": [],
      "name": "csharp"
     },
     {
      "aliases": [],
      "languageName": "SQL",
      "name": "sql"
     },
     {
      "aliases": [
       "frontend"
      ],
      "languageName": null,
      "name": "vscode"
     }
    ]
   }
  }
 },
 "nbformat": 4,
 "nbformat_minor": 2
}
