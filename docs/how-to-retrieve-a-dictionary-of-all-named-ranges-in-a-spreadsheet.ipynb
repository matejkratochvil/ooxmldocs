{
 "cells": [
  {
   "cell_type": "markdown",
   "metadata": {
    "dotnet_interactive": {
     "language": "csharp"
    },
    "polyglot_notebook": {
     "kernelName": "csharp"
    }
   },
   "source": [
    "# Retrieve a dictionary of all named ranges in a spreadsheet document (Open XML SDK)\n",
    "\n",
    "This topic shows how to use the classes in the Open XML SDK 2.5 for\n",
    "Office to programmatically retrieve a dictionary that contains the names\n",
    "and ranges of all defined names in an Microsoft Excel 2010 or Microsoft\n",
    "Excel 2013 workbook. It contains an example **GetDefinedNames** method\n",
    "to illustrate this task.\n",
    "\n",
    "To use the sample code in this topic, you must install the [Open XML SDK 2.5](https://www.nuget.org/packages/DocumentFormat.OpenXml/2.5.0). You\n",
    "must explicitly reference the following assemblies in your project:\n",
    "\n",
    "- WindowsBase\n",
    "\n",
    "- DocumentFormat.OpenXml (Installed by the Open XML SDK)\n",
    "\n",
    "You must also use the following **using**\n",
    "directives or **Imports** statements to compile\n",
    "the code in this topic."
   ]
  },
  {
   "cell_type": "code",
   "execution_count": null,
   "metadata": {
    "dotnet_interactive": {
     "language": "csharp"
    },
    "polyglot_notebook": {
     "kernelName": "csharp"
    },
    "vscode": {
     "languageId": "polyglot-notebook"
    }
   },
   "outputs": [],
   "source": [
    "    using System;\n",
    "    using System.Collections.Generic;\n",
    "    using DocumentFormat.OpenXml.Packaging;\n",
    "    using DocumentFormat.OpenXml.Spreadsheet;"
   ]
  },
  {
   "cell_type": "markdown",
   "metadata": {
    "dotnet_interactive": {
     "language": "csharp"
    },
    "polyglot_notebook": {
     "kernelName": "csharp"
    }
   },
   "source": []
  },
  {
   "cell_type": "markdown",
   "metadata": {
    "dotnet_interactive": {
     "language": "csharp"
    },
    "polyglot_notebook": {
     "kernelName": "csharp"
    }
   },
   "source": [
    "## GetDefinedNames Method\n",
    "\n",
    "The **GetDefinedNames** procedure accepts a\n",
    "single parameter that indicates the name of the document from which to\n",
    "retrieve the defined names. The procedure returns an\n",
    "[Dictionary](https://msdn.microsoft.com/library/xfhwa508.aspx)\n",
    "instance that contains information about the defined names within the\n",
    "specified workbook, which may be empty if there are no defined names."
   ]
  },
  {
   "cell_type": "code",
   "execution_count": null,
   "metadata": {
    "dotnet_interactive": {
     "language": "csharp"
    },
    "polyglot_notebook": {
     "kernelName": "csharp"
    },
    "vscode": {
     "languageId": "polyglot-notebook"
    }
   },
   "outputs": [],
   "source": [
    "    public static Dictionary<String, String>\n",
    "        GetDefinedNames(String fileName)"
   ]
  },
  {
   "cell_type": "markdown",
   "metadata": {
    "dotnet_interactive": {
     "language": "csharp"
    },
    "polyglot_notebook": {
     "kernelName": "csharp"
    }
   },
   "source": []
  },
  {
   "cell_type": "markdown",
   "metadata": {
    "dotnet_interactive": {
     "language": "csharp"
    },
    "polyglot_notebook": {
     "kernelName": "csharp"
    }
   },
   "source": [
    "The method examines the workbook that you specify, looking for the part\n",
    "that contains defined names. If it exists, the code iterates through all\n",
    "the contents of the part, adding the name and value for each defined\n",
    "name to the returned dictionary.\n",
    "\n",
    "## Calling the Sample Method\n",
    "\n",
    "To call the sample method, pass a string that contains the name of the\n",
    "file from which to retrieve the defined names. The following code\n",
    "example passes a string that contains the name of the file from which to\n",
    "retrieve the defined names and iterates through the returned dictionary,\n",
    "and displays the key and value from each item."
   ]
  },
  {
   "cell_type": "code",
   "execution_count": null,
   "metadata": {
    "dotnet_interactive": {
     "language": "csharp"
    },
    "polyglot_notebook": {
     "kernelName": "csharp"
    },
    "vscode": {
     "languageId": "polyglot-notebook"
    }
   },
   "outputs": [],
   "source": [
    "    var result = \n",
    "        GetDefinedNames(@\"C:\\Users\\Public\\Documents\\definednames.xlsx\");\n",
    "    foreach (var dn in result)\n",
    "        Console.WriteLine(\"{0} {1}\", dn.Key, dn.Value);"
   ]
  },
  {
   "cell_type": "markdown",
   "metadata": {
    "dotnet_interactive": {
     "language": "csharp"
    },
    "polyglot_notebook": {
     "kernelName": "csharp"
    }
   },
   "source": []
  },
  {
   "cell_type": "markdown",
   "metadata": {
    "dotnet_interactive": {
     "language": "csharp"
    },
    "polyglot_notebook": {
     "kernelName": "csharp"
    }
   },
   "source": [
    "## How the Code Works\n",
    "\n",
    "The code starts by creating a variable named **returnValue** that the method will return before it exits."
   ]
  },
  {
   "cell_type": "code",
   "execution_count": null,
   "metadata": {
    "dotnet_interactive": {
     "language": "csharp"
    },
    "polyglot_notebook": {
     "kernelName": "csharp"
    },
    "vscode": {
     "languageId": "polyglot-notebook"
    }
   },
   "outputs": [],
   "source": [
    "    // Given a workbook name, return a dictionary of defined names.\n",
    "    // The pairs include the range name and a string representing the range.\n",
    "    var returnValue = new Dictionary<String, String>();\n",
    "        // Code removed here…\n",
    "    return returnValue;"
   ]
  },
  {
   "cell_type": "markdown",
   "metadata": {
    "dotnet_interactive": {
     "language": "csharp"
    },
    "polyglot_notebook": {
     "kernelName": "csharp"
    }
   },
   "source": []
  },
  {
   "cell_type": "markdown",
   "metadata": {
    "dotnet_interactive": {
     "language": "csharp"
    },
    "polyglot_notebook": {
     "kernelName": "csharp"
    }
   },
   "source": [
    "The code continues by opening the spreadsheet document, using the **Open** method and indicating that the\n",
    "document should be open for read-only access (the final false parameter). Given the open workbook, the code uses the **WorkbookPart** property to navigate to the main workbook part. The code stores this reference in a variable named **wbPart**."
   ]
  },
  {
   "cell_type": "code",
   "execution_count": null,
   "metadata": {
    "dotnet_interactive": {
     "language": "csharp"
    },
    "polyglot_notebook": {
     "kernelName": "csharp"
    },
    "vscode": {
     "languageId": "polyglot-notebook"
    }
   },
   "outputs": [],
   "source": [
    "    // Open the spreadsheet document for read-only access.\n",
    "    using (SpreadsheetDocument document =\n",
    "        SpreadsheetDocument.Open(fileName, false))\n",
    "    {\n",
    "        // Retrieve a reference to the workbook part.\n",
    "        var wbPart = document.WorkbookPart;\n",
    "        // Code removed here.\n",
    "    }"
   ]
  },
  {
   "cell_type": "markdown",
   "metadata": {
    "dotnet_interactive": {
     "language": "csharp"
    },
    "polyglot_notebook": {
     "kernelName": "csharp"
    }
   },
   "source": []
  },
  {
   "cell_type": "markdown",
   "metadata": {
    "dotnet_interactive": {
     "language": "csharp"
    },
    "polyglot_notebook": {
     "kernelName": "csharp"
    }
   },
   "source": [
    "## Retrieving the Defined Names\n",
    "\n",
    "Given the workbook part, the next step is simple. The code uses the\n",
    "**Workbook** property of the workbook part to retrieve a reference to the content of the workbook, and then retrieves the **DefinedNames** collection provided by the Open XML SDK 2.5. This property returns a collection of all of the\n",
    "defined names that are contained within the workbook. If the property returns a non-null value, the code then iterates through the collection, retrieving information about each named part and adding the key  name) and value (range description) to the dictionary for each defined name."
   ]
  },
  {
   "cell_type": "code",
   "execution_count": null,
   "metadata": {
    "dotnet_interactive": {
     "language": "csharp"
    },
    "polyglot_notebook": {
     "kernelName": "csharp"
    },
    "vscode": {
     "languageId": "polyglot-notebook"
    }
   },
   "outputs": [],
   "source": [
    "    // Retrieve a reference to the defined names collection.\n",
    "    DefinedNames definedNames = wbPart.Workbook.DefinedNames;\n",
    "\n",
    "    // If there are defined names, add them to the dictionary.\n",
    "    if (definedNames != null)\n",
    "    {\n",
    "        foreach (DefinedName dn in definedNames)\n",
    "            returnValue.Add(dn.Name.Value, dn.Text);\n",
    "    }"
   ]
  },
  {
   "cell_type": "markdown",
   "metadata": {
    "dotnet_interactive": {
     "language": "csharp"
    },
    "polyglot_notebook": {
     "kernelName": "csharp"
    }
   },
   "source": []
  },
  {
   "cell_type": "markdown",
   "metadata": {
    "dotnet_interactive": {
     "language": "csharp"
    },
    "polyglot_notebook": {
     "kernelName": "csharp"
    }
   },
   "source": [
    "## Sample Code\n",
    "\n",
    "The following is the complete **GetDefinedNames** code sample in C\\# and Visual Basic."
   ]
  },
  {
   "cell_type": "code",
   "execution_count": null,
   "metadata": {
    "dotnet_interactive": {
     "language": "csharp"
    },
    "polyglot_notebook": {
     "kernelName": "csharp"
    },
    "vscode": {
     "languageId": "polyglot-notebook"
    }
   },
   "outputs": [],
   "source": [
    "    public static Dictionary<String, String>\n",
    "        GetDefinedNames(String fileName)\n",
    "    {\n",
    "        // Given a workbook name, return a dictionary of defined names.\n",
    "        // The pairs include the range name and a string representing the range.\n",
    "        var returnValue = new Dictionary<String, String>();\n",
    "        \n",
    "        // Open the spreadsheet document for read-only access.\n",
    "        using (SpreadsheetDocument document =\n",
    "            SpreadsheetDocument.Open(fileName, false))\n",
    "        {\n",
    "            // Retrieve a reference to the workbook part.\n",
    "            var wbPart = document.WorkbookPart;\n",
    "            \n",
    "            // Retrieve a reference to the defined names collection.\n",
    "            DefinedNames definedNames = wbPart.Workbook.DefinedNames;\n",
    "\n",
    "            // If there are defined names, add them to the dictionary.\n",
    "            if (definedNames != null)\n",
    "            {\n",
    "                foreach (DefinedName dn in definedNames)\n",
    "                    returnValue.Add(dn.Name.Value, dn.Text);\n",
    "            }\n",
    "        }\n",
    "        return returnValue;\n",
    "    }"
   ]
  },
  {
   "cell_type": "markdown",
   "metadata": {
    "dotnet_interactive": {
     "language": "csharp"
    },
    "polyglot_notebook": {
     "kernelName": "csharp"
    }
   },
   "source": []
  },
  {
   "cell_type": "markdown",
   "metadata": {
    "dotnet_interactive": {
     "language": "csharp"
    },
    "polyglot_notebook": {
     "kernelName": "csharp"
    }
   },
   "source": [
    "## See also\n",
    "\n",
    "- [Open XML SDK 2.5 class library reference](/office/open-xml/open-xml-sdk)"
   ]
  }
 ],
 "metadata": {
  "kernelspec": {
   "display_name": ".NET (C#)",
   "language": "C#",
   "name": ".net-csharp"
  },
  "polyglot_notebook": {
   "kernelInfo": {
    "defaultKernelName": "csharp",
    "items": [
     {
      "aliases": [
       "c#",
       "C#"
      ],
      "languageName": "C#",
      "name": "csharp"
     },
     {
      "aliases": [
       "frontend"
      ],
      "languageName": null,
      "name": "vscode"
     }
    ]
   }
  }
 },
 "nbformat": 4,
 "nbformat_minor": 2
}
